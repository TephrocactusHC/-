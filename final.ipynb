{
 "cells": [
  {
   "cell_type": "code",
   "execution_count": 1,
   "id": "9544b6df",
   "metadata": {},
   "outputs": [],
   "source": [
    "# jupyter里加上这一行可以让图像正常显示，防止部分情况报错\n",
    "%matplotlib inline\n",
    "\n",
    "# 加上这两行可以一次性输出多个变量而不用print\n",
    "from IPython.core.interactiveshell import InteractiveShell\n",
    "InteractiveShell.ast_node_interactivity = \"all\""
   ]
  },
  {
   "cell_type": "code",
   "execution_count": 2,
   "id": "e109987f",
   "metadata": {},
   "outputs": [],
   "source": [
    "#忽略任何报错信息\n",
    "import warnings\n",
    "warnings.filterwarnings('ignore')"
   ]
  },
  {
   "cell_type": "code",
   "execution_count": 3,
   "id": "2542ab44",
   "metadata": {},
   "outputs": [],
   "source": [
    "import pandas as pd \n",
    "import os \n",
    "import datetime\n",
    "import matplotlib.pyplot as plt"
   ]
  },
  {
   "cell_type": "code",
   "execution_count": 4,
   "id": "3cddf100",
   "metadata": {},
   "outputs": [],
   "source": [
    "# 文件路径，这里使用绝对路径，如果是打包的project，最好在同一个dir之下使用相对路径\n",
    "file_path_child = r'D:\\\\xinanshuji\\\\CFPS\\\\CFPS-data\\\\cfps2018childproxy_202012.dta'\n",
    "file_path_famconf = r'D:\\\\xinanshuji\\\\CFPS\\\\CFPS-data\\\\ecfps2018famconf_202008.dta'\n",
    "file_path_famecon = r'D:\\\\xinanshuji\\\\CFPS\\\\CFPS-data\\\\ecfps2018famecon_202101.dta'\n",
    "file_path_person = r'D:\\\\xinanshuji\\\\CFPS\\\\CFPS-data\\\\ecfps2018person_202012.dta'\n",
    "file_path_cross = r'D:\\\\xinanshuji\\\\CFPS\\\\CFPS-data\\\\ecfps2018crossyearid_202104.dta'"
   ]
  },
  {
   "cell_type": "code",
   "execution_count": 5,
   "id": "1071a9bc",
   "metadata": {},
   "outputs": [],
   "source": [
    "data_famecon = pd.read_stata(file_path_famecon, convert_categoricals=False) \n",
    "data_famconf = pd.read_stata(file_path_famconf, convert_categoricals=False) \n",
    "data_cross = pd.read_stata(file_path_cross, convert_categoricals=False) \n",
    "data_person = pd.read_stata(file_path_person, convert_categoricals=False) "
   ]
  },
  {
   "cell_type": "markdown",
   "id": "c00efc4b",
   "metadata": {},
   "source": [
    "# 先处理分析家庭关系表 data_famconf\n",
    "## 列出一些变量\n",
    "- id related\n",
    "    - pid: 个人样本编码； 用于匹配\n",
    "    - fid18 : 家庭id； 用于匹配\n",
    "    - fid10 fid12 fid14 fid16 : 往次调查的家庭id\n",
    "    - code_a_p： 个人户内代码，可以用于剔除同住但无直接血缘关系的人 \n",
    "    - code_a18_p: 个人是否与该家庭在经济上是一家人\n",
    "\n",
    "\n",
    "- 基因成员: genetype18（有细分）  gene\n",
    "- 是否核心成员：COREMEMBER18\n",
    "\n",
    "- 性别：tb2_a_p\n",
    "- 出生年、月：tb1y_a_p, tb1m_a_p ;  调查年、月：cyear18, cmonth18  用于计算访问时的年龄\n",
    "- 户口：hukou_a18_p\n",
    "- 个人婚姻：tb3_a18_p\n",
    "    - 配偶婚姻：tb3_a18_s\n",
    "    - 配偶户口：hukou_a18_s\n",
    "    - 配偶是否健在：alive_a18_s\n",
    "    - 配偶去世原因：ta401_a18_s\n",
    "- 个人问卷是否完成：cfps2018_interv_p\n",
    "- 个人是否健在：alive_a18_p\n",
    "- 个人去世原因：ta401_a18_p\n",
    "    - 意外死亡代码：17\n",
    "        - 17.0.70\t机动车辆交通事故， 17.0.71\t机动车以外的运输事故， 17.0.73\t意外跌落，17.0.76\t淹死\n",
    "\n",
    "- 父母信息\n",
    "    - pid_a_f: 父亲样本编码\n",
    "    - TB6_A18_F：父亲是否居住在家\n",
    "    - TB1Y_A_F：父亲出生年， TB1M_A_F:出生月\n",
    "    - TA4Y_A18_F：父亲去世年份， TA4M_A18_F: 父亲去世月份\n",
    "    - TA401_A18_F：去世原因\n",
    "- 母亲信息\n",
    "    - pid_a_m\n",
    "    \n",
    "    \n",
    "- 子女信息\n",
    "    - pid_a_c1-10：孩子样本编码\n",
    "    - TB2_A_C1-10: 孩子性别\n",
    "    \n",
    "    \n",
    "- 访问形式：iwmode18"
   ]
  },
  {
   "cell_type": "code",
   "execution_count": 6,
   "id": "7b39274d",
   "metadata": {},
   "outputs": [
    {
     "data": {
      "text/plain": [
       "count    1.421800e+04\n",
       "mean     4.014819e+05\n",
       "std      3.167562e+05\n",
       "min      1.000510e+05\n",
       "25%      2.297105e+05\n",
       "50%      4.105525e+05\n",
       "75%      5.200708e+05\n",
       "max      6.759191e+06\n",
       "Name: fid18, dtype: float64"
      ]
     },
     "execution_count": 6,
     "metadata": {},
     "output_type": "execute_result"
    },
    {
     "data": {
      "text/plain": [
       "100051.0     1\n",
       "441959.0     1\n",
       "441946.0     1\n",
       "441947.0     1\n",
       "441949.0     1\n",
       "            ..\n",
       "311715.0     1\n",
       "311716.0     1\n",
       "311717.0     1\n",
       "311718.0     1\n",
       "6759191.0    1\n",
       "Name: fid18, Length: 14218, dtype: int64"
      ]
     },
     "execution_count": 6,
     "metadata": {},
     "output_type": "execute_result"
    }
   ],
   "source": [
    "data_famecon['fid18'].describe()\n",
    "data_famecon['fid18'].value_counts()"
   ]
  },
  {
   "cell_type": "code",
   "execution_count": 7,
   "id": "d1f3168d",
   "metadata": {},
   "outputs": [
    {
     "data": {
      "text/plain": [
       "count    5.850400e+04\n",
       "mean     4.056989e+05\n",
       "std      2.575733e+05\n",
       "min      1.000510e+05\n",
       "25%      2.569400e+05\n",
       "50%      4.112700e+05\n",
       "75%      5.200062e+05\n",
       "max      6.817001e+06\n",
       "Name: fid18, dtype: float64"
      ]
     },
     "execution_count": 7,
     "metadata": {},
     "output_type": "execute_result"
    },
    {
     "data": {
      "text/plain": [
       "510398.0     21\n",
       "441105.0     17\n",
       "510395.0     16\n",
       "441709.0     16\n",
       "440264.0     15\n",
       "             ..\n",
       "205249.0      1\n",
       "205826.0      1\n",
       "620443.0      1\n",
       "311545.0      1\n",
       "5753002.0     1\n",
       "Name: fid18, Length: 15051, dtype: int64"
      ]
     },
     "execution_count": 7,
     "metadata": {},
     "output_type": "execute_result"
    }
   ],
   "source": [
    "data_famconf = pd.read_stata(file_path_famconf, convert_categoricals=False) \n",
    "data_famconf['fid18'].describe()\n",
    "data_famconf['fid18'].value_counts()"
   ]
  },
  {
   "cell_type": "code",
   "execution_count": 8,
   "id": "4eba11cd",
   "metadata": {},
   "outputs": [
    {
     "data": {
      "text/plain": [
       "(55793, 296)"
      ]
     },
     "execution_count": 8,
     "metadata": {},
     "output_type": "execute_result"
    }
   ],
   "source": [
    "#以下部分选择基因成员和核心成员进行分析\n",
    "famconf = data_famconf[(data_famconf['gene']==1) | (data_famconf['coremember18']==1)]\n",
    "famconf.shape"
   ]
  },
  {
   "cell_type": "code",
   "execution_count": 9,
   "id": "2a50e717",
   "metadata": {},
   "outputs": [
    {
     "name": "stdout",
     "output_type": "stream",
     "text": [
      "count    55793.000000\n",
      "mean         6.394619\n",
      "std          3.949687\n",
      "min         -9.000000\n",
      "25%          3.000000\n",
      "50%          7.000000\n",
      "75%         10.000000\n",
      "max         12.000000\n",
      "Name: tb1m_a_p, dtype: float64\n",
      "count    55793.000000\n",
      "mean      1972.925618\n",
      "std        116.467357\n",
      "min         -9.000000\n",
      "25%       1963.000000\n",
      "50%       1981.000000\n",
      "75%       1996.000000\n",
      "max       2018.000000\n",
      "Name: tb1y_a_p, dtype: float64\n"
     ]
    }
   ],
   "source": [
    "# check data\n",
    "print(famconf['tb1m_a_p'].describe())  # 月份\n",
    "print(famconf['tb1y_a_p'].describe())  # 年份\n",
    "# -9 为缺失值"
   ]
  },
  {
   "cell_type": "code",
   "execution_count": 10,
   "id": "43f057bc",
   "metadata": {},
   "outputs": [
    {
     "name": "stdout",
     "output_type": "stream",
     "text": [
      "月缺失数据： 877\n",
      "年缺失数据：  180\n",
      "年缺失数据：  5\n"
     ]
    }
   ],
   "source": [
    "print('月缺失数据：', famconf[famconf['tb1m_a_p']==-9].shape[0])\n",
    "print('年缺失数据： ',famconf[famconf['tb1y_a_p']==-9].shape[0])\n",
    "print('年缺失数据： ',famconf[famconf['tb1y_a_p']==-1].shape[0])  # check codebook, 年份有 -1（不知道）， -9\n",
    "# 处理方法，剔除年缺失数据，月缺失数据补充月份为 6 "
   ]
  },
  {
   "cell_type": "code",
   "execution_count": 11,
   "id": "7a61855a",
   "metadata": {},
   "outputs": [
    {
     "name": "stdout",
     "output_type": "stream",
     "text": [
      " 10.0    5503\n",
      " 9.0     4889\n",
      " 8.0     4762\n",
      " 11.0    4645\n",
      " 12.0    4617\n",
      " 3.0     4529\n",
      " 2.0     4448\n",
      " 1.0     4430\n",
      " 7.0     4357\n",
      " 5.0     4322\n",
      " 4.0     4232\n",
      " 6.0     4182\n",
      "-9.0      877\n",
      "Name: tb1m_a_p, dtype: int64\n"
     ]
    }
   ],
   "source": [
    "# famconf.loc[:,['tb1y_a_p','tb1m_a_p']]\n",
    "print(famconf['tb1m_a_p'].value_counts())"
   ]
  },
  {
   "cell_type": "code",
   "execution_count": 12,
   "id": "0f9a03c6",
   "metadata": {},
   "outputs": [],
   "source": [
    "# 出生年、月：tb1y_a_p, tb1m_a_p ;  调查年、月：cyear18, cmonth18  用于计算访问时的年龄\n",
    "# 1. 合并年月\n",
    "def combine_date(x):\n",
    "#     print(x[0])\n",
    "#     print(x[1])\n",
    "#    print(str(x[0]).split('.')[0]+str(x[1]).split('.')[0])\n",
    "    if (x[0] == -9) | (x[0] == -1):  # 剔除年份缺失数据\n",
    "        return None\n",
    "    else:\n",
    "        if x[1] == -9:  # 月份缺失数据填 6 月\n",
    "            return str(x[0]).split('.')[0]+'6'\n",
    "        return str(x[0]).split('.')[0]+str(x[1]).split('.')[0]\n",
    "\n",
    "famconf['birthday']=famconf[['tb1y_a_p','tb1m_a_p']].apply(combine_date,axis=1)\n",
    "famconf['visitday']=famconf[['cyear18','cmonth18']].apply(combine_date,axis =1)"
   ]
  },
  {
   "cell_type": "code",
   "execution_count": 13,
   "id": "7d2d4809",
   "metadata": {},
   "outputs": [
    {
     "name": "stdout",
     "output_type": "stream",
     "text": [
      "19876     141\n",
      "19634     136\n",
      "198810    130\n",
      "19902     127\n",
      "198910    127\n",
      "         ... \n",
      "19264       1\n",
      "19187       1\n",
      "19221       1\n",
      "19178       1\n",
      "192012      1\n",
      "Name: birthday, Length: 1175, dtype: int64\n"
     ]
    }
   ],
   "source": [
    "# famconf.loc[:,['birthday']]\n",
    "print(famconf['birthday'].value_counts())"
   ]
  },
  {
   "cell_type": "code",
   "execution_count": 14,
   "id": "db17db25",
   "metadata": {},
   "outputs": [],
   "source": [
    "# 2. 转换为 datetime 格式\n",
    "famconf['birthday_dt']=pd.to_datetime(famconf['birthday'],format='%Y%m')\n",
    "famconf['visitday_dt']=pd.to_datetime(famconf['visitday'],format='%Y%m')"
   ]
  },
  {
   "cell_type": "code",
   "execution_count": 15,
   "id": "ed7b63da",
   "metadata": {},
   "outputs": [],
   "source": [
    "# 计算年龄 用调查时间 - 出生日期\n",
    "famconf['age']=(famconf['visitday_dt']-famconf['birthday_dt']).dt.days/365 "
   ]
  },
  {
   "cell_type": "code",
   "execution_count": 16,
   "id": "00f8c048",
   "metadata": {},
   "outputs": [],
   "source": [
    "fam = famconf['fid18'].duplicated()\n",
    "fam_num = famconf['age'].mean()"
   ]
  },
  {
   "cell_type": "code",
   "execution_count": 17,
   "id": "d79c2f8a",
   "metadata": {},
   "outputs": [
    {
     "data": {
      "text/plain": [
       "<AxesSubplot:>"
      ]
     },
     "execution_count": 17,
     "metadata": {},
     "output_type": "execute_result"
    },
    {
     "data": {
      "text/plain": [
       "Text(0.5, 1.0, '年龄分布')"
      ]
     },
     "execution_count": 17,
     "metadata": {},
     "output_type": "execute_result"
    },
    {
     "data": {
      "image/png": "[encoded data removed]",
      "text/plain": [
       "<Figure size 432x288 with 1 Axes>"
      ]
     },
     "metadata": {
      "needs_background": "light"
     },
     "output_type": "display_data"
    }
   ],
   "source": [
    "# 中文乱码和坐标轴负号的处理\n",
    "#字体设为微软雅黑\n",
    "plt.rcParams['font.sans-serif'] = ['Microsoft YaHei']\n",
    "plt.rcParams['axes.unicode_minus'] = False\n",
    "\n",
    "famconf['age'].hist()\n",
    "plt.title('年龄分布')\n",
    "#下面这行取消注释可以保存图表，但是需要自己修改地址，最好设为绝对路径，后面同理\n",
    "# plt.savefig('ages.png')"
   ]
  },
  {
   "cell_type": "code",
   "execution_count": 18,
   "id": "a7980410",
   "metadata": {},
   "outputs": [],
   "source": [
    "#通过numpy库进行数据计算的操作\n",
    "import numpy as np\n",
    "#数据聚合操作，把同一个家庭的人放在一起\n",
    "# grouped=famconf['age'].groupby(by=famconf['fid18']).agg(np.mean)\n",
    "grouped=famconf['age'].groupby(by=famconf['fid18']).agg([\n",
    "        ('age_mean', np.mean)\n",
    "        ])\n",
    "grouped.reset_index(inplace=True)"
   ]
  },
  {
   "cell_type": "code",
   "execution_count": 19,
   "id": "a6055cd4",
   "metadata": {},
   "outputs": [
    {
     "data": {
      "text/html": [
       "<div>\n",
       "<style scoped>\n",
       "    .dataframe tbody tr th:only-of-type {\n",
       "        vertical-align: middle;\n",
       "    }\n",
       "\n",
       "    .dataframe tbody tr th {\n",
       "        vertical-align: top;\n",
       "    }\n",
       "\n",
       "    .dataframe thead th {\n",
       "        text-align: right;\n",
       "    }\n",
       "</style>\n",
       "<table border=\"1\" class=\"dataframe\">\n",
       "  <thead>\n",
       "    <tr style=\"text-align: right;\">\n",
       "      <th></th>\n",
       "      <th>fid18</th>\n",
       "      <th>age_mean</th>\n",
       "    </tr>\n",
       "  </thead>\n",
       "  <tbody>\n",
       "    <tr>\n",
       "      <th>0</th>\n",
       "      <td>100051.0</td>\n",
       "      <td>42.137900</td>\n",
       "    </tr>\n",
       "    <tr>\n",
       "      <th>1</th>\n",
       "      <td>100160.0</td>\n",
       "      <td>28.267123</td>\n",
       "    </tr>\n",
       "    <tr>\n",
       "      <th>2</th>\n",
       "      <td>100286.0</td>\n",
       "      <td>39.778082</td>\n",
       "    </tr>\n",
       "    <tr>\n",
       "      <th>3</th>\n",
       "      <td>100376.0</td>\n",
       "      <td>21.968493</td>\n",
       "    </tr>\n",
       "    <tr>\n",
       "      <th>4</th>\n",
       "      <td>100435.0</td>\n",
       "      <td>17.260959</td>\n",
       "    </tr>\n",
       "    <tr>\n",
       "      <th>...</th>\n",
       "      <td>...</td>\n",
       "      <td>...</td>\n",
       "    </tr>\n",
       "    <tr>\n",
       "      <th>15041</th>\n",
       "      <td>6646971.0</td>\n",
       "      <td>22.828767</td>\n",
       "    </tr>\n",
       "    <tr>\n",
       "      <th>15042</th>\n",
       "      <td>6694541.0</td>\n",
       "      <td>23.098630</td>\n",
       "    </tr>\n",
       "    <tr>\n",
       "      <th>15043</th>\n",
       "      <td>6704011.0</td>\n",
       "      <td>22.432877</td>\n",
       "    </tr>\n",
       "    <tr>\n",
       "      <th>15044</th>\n",
       "      <td>6759191.0</td>\n",
       "      <td>25.890411</td>\n",
       "    </tr>\n",
       "    <tr>\n",
       "      <th>15045</th>\n",
       "      <td>6817001.0</td>\n",
       "      <td>22.931507</td>\n",
       "    </tr>\n",
       "  </tbody>\n",
       "</table>\n",
       "<p>15046 rows × 2 columns</p>\n",
       "</div>"
      ],
      "text/plain": [
       "           fid18   age_mean\n",
       "0       100051.0  42.137900\n",
       "1       100160.0  28.267123\n",
       "2       100286.0  39.778082\n",
       "3       100376.0  21.968493\n",
       "4       100435.0  17.260959\n",
       "...          ...        ...\n",
       "15041  6646971.0  22.828767\n",
       "15042  6694541.0  23.098630\n",
       "15043  6704011.0  22.432877\n",
       "15044  6759191.0  25.890411\n",
       "15045  6817001.0  22.931507\n",
       "\n",
       "[15046 rows x 2 columns]"
      ]
     },
     "execution_count": 19,
     "metadata": {},
     "output_type": "execute_result"
    }
   ],
   "source": [
    "grouped"
   ]
  },
  {
   "cell_type": "code",
   "execution_count": 20,
   "id": "7eef343a",
   "metadata": {},
   "outputs": [
    {
     "data": {
      "text/plain": [
       "23-45    8608\n",
       "46-60    2501\n",
       "60+      2378\n",
       "16-22    1305\n",
       "0-16      253\n",
       "Name: age_segment, dtype: int64"
      ]
     },
     "execution_count": 20,
     "metadata": {},
     "output_type": "execute_result"
    }
   ],
   "source": [
    "#数据分桶，即把年龄分成'0-16','16-22','23-45','46-60','60+'这五个类型\n",
    "age_cut = [-1, 16, 23,46,60,120]\n",
    "age_seg = pd.cut(grouped['age_mean'],bins = age_cut,labels=['0-16','16-22','23-45','46-60','60+'])\n",
    "grouped['age_segment']= age_seg.values\n",
    "a = grouped['age_segment'].value_counts()\n",
    "a"
   ]
  },
  {
   "cell_type": "code",
   "execution_count": 21,
   "id": "6349dc9a",
   "metadata": {},
   "outputs": [
    {
     "data": {
      "text/plain": [
       "<Figure size 1164.96x720 with 0 Axes>"
      ]
     },
     "execution_count": 21,
     "metadata": {},
     "output_type": "execute_result"
    },
    {
     "data": {
      "text/plain": [
       "<BarContainer object of 5 artists>"
      ]
     },
     "execution_count": 21,
     "metadata": {},
     "output_type": "execute_result"
    },
    {
     "data": {
      "text/plain": [
       "Text(0.5, 1.0, '家庭平均年龄分布')"
      ]
     },
     "execution_count": 21,
     "metadata": {},
     "output_type": "execute_result"
    },
    {
     "data": {
      "image/png": "[encoded data removed]",
      "text/plain": [
       "<Figure size 1164.96x720 with 1 Axes>"
      ]
     },
     "metadata": {
      "needs_background": "light"
     },
     "output_type": "display_data"
    }
   ],
   "source": [
    "plt.figure(figsize=(16.18,10))\n",
    "plt.bar(a.index, a.values)\n",
    "plt.title('家庭平均年龄分布')\n",
    "plt.show()\n",
    "# plt.savefig('ages.png')"
   ]
  },
  {
   "cell_type": "markdown",
   "id": "9bed1506",
   "metadata": {},
   "source": [
    "### 至此，对家庭分年龄段的操作已经解决了"
   ]
  },
  {
   "cell_type": "markdown",
   "id": "2a739de7",
   "metadata": {},
   "source": [
    "- finance\n",
    "    - fn3: 是否领取离退休或养老金； fn301 领取离退休或养老金总额（元）\n",
    "    - fn401: 子女给的钱（元）（不同住子女）\n",
    "    - FN4\t亲戚给的钱（元）\n",
    "    - FN5\t其他人给的钱（元）\n",
    "\n",
    "  \n",
    "    - fp510 教育培训支出\n",
    "    - FQ2 房屋归谁所有\n",
    "        1：家庭成员有完全产权\n",
    "        2： 部分产权\n",
    "        3： 单位提供的房子\n",
    "        4：廉租房； 5： 公租房；6：租的商品房； 7：亲戚、朋友的房子\n",
    "    - FQ6 房子当前市价\n",
    "        - FQ6_MAX： 当前市价最大值\n",
    "        - FQ_MIN: 最小值\n",
    "    - FR1： 是否还有房产\n",
    "        - FR101：还有几处房产\n",
    "        - FR2： 其它房产市价总价\n",
    "        - FR2_MAX, FR2_MIN, FR2_EST\n",
    "        \n",
    "    - FS6V: 耐用品消费总值（元）\n",
    "    \n",
    "    - 金融资产\n",
    "        - FT1：现金及存款总额（元）\n",
    "            - FT1_MAX, FT1_MIN, FT1_EST\n",
    "            - FT101: 定期存款总额\n",
    "            \n",
    "        - FT200：是否持有金融产品\n",
    "            - FT201： 金融产品总价\n",
    "            \n",
    "    - 负债：\n",
    "        - FT3： 是否贷款买房或装修\n",
    "            - FT301： 待偿房贷本息总额（万元）\n",
    "        - FT4\t是否购房建房装修借款\n",
    "            - FT401\t购房建房装修借款额度（元）\n",
    "        - FT5\t待偿银行贷款（除房贷） 是否\n",
    "            - FT501\t您家待偿贷款额（元）\n",
    "        - FT6 待偿亲友借款 是否\n",
    "            -  FT601 您家待偿亲友借款（元）\n",
    "\t\n",
    "    - FAMILYSIZE18: 家庭人口规模（综合变量）\n",
    "        - fml_count 2018年家庭成员人口数 （加载的是Rtype = 1-5, 7(外出家庭成员）的成员，不包括同住（经济独立）的家庭成员\n",
    "    \n",
    "    - FSWT_NATCS18N：家庭横截面权数\n",
    "\t\n",
    "\t\n",
    "\t\n"
   ]
  },
  {
   "cell_type": "code",
   "execution_count": 22,
   "id": "eacae803",
   "metadata": {},
   "outputs": [
    {
     "data": {
      "text/plain": [
       "(14218, 321)"
      ]
     },
     "execution_count": 22,
     "metadata": {},
     "output_type": "execute_result"
    },
    {
     "data": {
      "text/html": [
       "<div>\n",
       "<style scoped>\n",
       "    .dataframe tbody tr th:only-of-type {\n",
       "        vertical-align: middle;\n",
       "    }\n",
       "\n",
       "    .dataframe tbody tr th {\n",
       "        vertical-align: top;\n",
       "    }\n",
       "\n",
       "    .dataframe thead th {\n",
       "        text-align: right;\n",
       "    }\n",
       "</style>\n",
       "<table border=\"1\" class=\"dataframe\">\n",
       "  <thead>\n",
       "    <tr style=\"text-align: right;\">\n",
       "      <th></th>\n",
       "      <th>fid18</th>\n",
       "      <th>fid16</th>\n",
       "      <th>fid14</th>\n",
       "      <th>fid12</th>\n",
       "      <th>fid10</th>\n",
       "      <th>provcd18</th>\n",
       "      <th>countyid18</th>\n",
       "      <th>cid18</th>\n",
       "      <th>urban18</th>\n",
       "      <th>iwmode</th>\n",
       "      <th>feinterv</th>\n",
       "      <th>fml_count</th>\n",
       "      <th>pid_a_1</th>\n",
       "      <th>pid_a_2</th>\n",
       "      <th>pid_a_3</th>\n",
       "      <th>pid_a_4</th>\n",
       "      <th>pid_a_5</th>\n",
       "      <th>pid_a_6</th>\n",
       "      <th>pid_a_7</th>\n",
       "      <th>pid_a_8</th>\n",
       "    </tr>\n",
       "  </thead>\n",
       "  <tbody>\n",
       "    <tr>\n",
       "      <th>0</th>\n",
       "      <td>100051.0</td>\n",
       "      <td>100051.0</td>\n",
       "      <td>100051.0</td>\n",
       "      <td>110043.0</td>\n",
       "      <td>110043.0</td>\n",
       "      <td>11.0</td>\n",
       "      <td>45.0</td>\n",
       "      <td>624942.0</td>\n",
       "      <td>1.0</td>\n",
       "      <td>2.0</td>\n",
       "      <td>1.0</td>\n",
       "      <td>3.0</td>\n",
       "      <td>100051501.0</td>\n",
       "      <td>100051502.0</td>\n",
       "      <td>110043107.0</td>\n",
       "      <td>-8.0</td>\n",
       "      <td>-8.0</td>\n",
       "      <td>-8.0</td>\n",
       "      <td>-8.0</td>\n",
       "      <td>-8.0</td>\n",
       "    </tr>\n",
       "    <tr>\n",
       "      <th>1</th>\n",
       "      <td>100160.0</td>\n",
       "      <td>100160.0</td>\n",
       "      <td>100160.0</td>\n",
       "      <td>120009.0</td>\n",
       "      <td>120009.0</td>\n",
       "      <td>12.0</td>\n",
       "      <td>79.0</td>\n",
       "      <td>NaN</td>\n",
       "      <td>1.0</td>\n",
       "      <td>1.0</td>\n",
       "      <td>1.0</td>\n",
       "      <td>2.0</td>\n",
       "      <td>120009102.0</td>\n",
       "      <td>100160601.0</td>\n",
       "      <td>-8.0</td>\n",
       "      <td>-8.0</td>\n",
       "      <td>-8.0</td>\n",
       "      <td>-8.0</td>\n",
       "      <td>-8.0</td>\n",
       "      <td>-8.0</td>\n",
       "    </tr>\n",
       "    <tr>\n",
       "      <th>2</th>\n",
       "      <td>100286.0</td>\n",
       "      <td>100286.0</td>\n",
       "      <td>100286.0</td>\n",
       "      <td>130005.0</td>\n",
       "      <td>130005.0</td>\n",
       "      <td>13.0</td>\n",
       "      <td>239.0</td>\n",
       "      <td>NaN</td>\n",
       "      <td>1.0</td>\n",
       "      <td>2.0</td>\n",
       "      <td>1.0</td>\n",
       "      <td>1.0</td>\n",
       "      <td>130005103.0</td>\n",
       "      <td>-8.0</td>\n",
       "      <td>-8.0</td>\n",
       "      <td>-8.0</td>\n",
       "      <td>-8.0</td>\n",
       "      <td>-8.0</td>\n",
       "      <td>-8.0</td>\n",
       "      <td>-8.0</td>\n",
       "    </tr>\n",
       "    <tr>\n",
       "      <th>3</th>\n",
       "      <td>100435.0</td>\n",
       "      <td>100435.0</td>\n",
       "      <td>100435.0</td>\n",
       "      <td>130155.0</td>\n",
       "      <td>130155.0</td>\n",
       "      <td>13.0</td>\n",
       "      <td>52.0</td>\n",
       "      <td>121200.0</td>\n",
       "      <td>0.0</td>\n",
       "      <td>2.0</td>\n",
       "      <td>1.0</td>\n",
       "      <td>4.0</td>\n",
       "      <td>100435552.0</td>\n",
       "      <td>130155103.0</td>\n",
       "      <td>130155521.0</td>\n",
       "      <td>277731501.0</td>\n",
       "      <td>-8.0</td>\n",
       "      <td>-8.0</td>\n",
       "      <td>-8.0</td>\n",
       "      <td>-8.0</td>\n",
       "    </tr>\n",
       "    <tr>\n",
       "      <th>4</th>\n",
       "      <td>100453.0</td>\n",
       "      <td>100453.0</td>\n",
       "      <td>100453.0</td>\n",
       "      <td>100453.0</td>\n",
       "      <td>430111.0</td>\n",
       "      <td>43.0</td>\n",
       "      <td>29.0</td>\n",
       "      <td>533420.0</td>\n",
       "      <td>1.0</td>\n",
       "      <td>1.0</td>\n",
       "      <td>1.0</td>\n",
       "      <td>6.0</td>\n",
       "      <td>100453401.0</td>\n",
       "      <td>100453431.0</td>\n",
       "      <td>100453551.0</td>\n",
       "      <td>430111101.0</td>\n",
       "      <td>430111102.0</td>\n",
       "      <td>430111103.0</td>\n",
       "      <td>-8.0</td>\n",
       "      <td>-8.0</td>\n",
       "    </tr>\n",
       "  </tbody>\n",
       "</table>\n",
       "</div>"
      ],
      "text/plain": [
       "      fid18     fid16     fid14     fid12     fid10  provcd18  countyid18  \\\n",
       "0  100051.0  100051.0  100051.0  110043.0  110043.0      11.0        45.0   \n",
       "1  100160.0  100160.0  100160.0  120009.0  120009.0      12.0        79.0   \n",
       "2  100286.0  100286.0  100286.0  130005.0  130005.0      13.0       239.0   \n",
       "3  100435.0  100435.0  100435.0  130155.0  130155.0      13.0        52.0   \n",
       "4  100453.0  100453.0  100453.0  100453.0  430111.0      43.0        29.0   \n",
       "\n",
       "      cid18  urban18  iwmode  feinterv  fml_count      pid_a_1      pid_a_2  \\\n",
       "0  624942.0      1.0     2.0       1.0        3.0  100051501.0  100051502.0   \n",
       "1       NaN      1.0     1.0       1.0        2.0  120009102.0  100160601.0   \n",
       "2       NaN      1.0     2.0       1.0        1.0  130005103.0         -8.0   \n",
       "3  121200.0      0.0     2.0       1.0        4.0  100435552.0  130155103.0   \n",
       "4  533420.0      1.0     1.0       1.0        6.0  100453401.0  100453431.0   \n",
       "\n",
       "       pid_a_3      pid_a_4      pid_a_5      pid_a_6  pid_a_7  pid_a_8  \n",
       "0  110043107.0         -8.0         -8.0         -8.0     -8.0     -8.0  \n",
       "1         -8.0         -8.0         -8.0         -8.0     -8.0     -8.0  \n",
       "2         -8.0         -8.0         -8.0         -8.0     -8.0     -8.0  \n",
       "3  130155521.0  277731501.0         -8.0         -8.0     -8.0     -8.0  \n",
       "4  100453551.0  430111101.0  430111102.0  430111103.0     -8.0     -8.0  "
      ]
     },
     "execution_count": 22,
     "metadata": {},
     "output_type": "execute_result"
    }
   ],
   "source": [
    "data_famecon.shape\n",
    "data_famecon.iloc[0:5,0:20]"
   ]
  },
  {
   "cell_type": "markdown",
   "id": "82c01c0e",
   "metadata": {},
   "source": [
    "## 家庭资产分析\n",
    "#### 资产\n",
    "    - 房产 fq2 (=1,=2), fr1\n",
    "        - 价值 \n",
    "            - fq6, fq6_max, fq6_min\n",
    "            - fr2, fr2_max, fr2_min, fr2_est\n",
    "    - 耐用品\n",
    "        - 消费总值：fs6v\n",
    "        \n",
    "    - 金融资产 FT200：是否持有金融产品\n",
    "        - FT201： 金融产品总价\n",
    "#### 负债\n",
    "    - FT3： 是否贷款买房或装修\n",
    "        - FT301： 待偿房贷本息总额（万元）\n",
    "    - FT4   是否购房建房装修借款\n",
    "        - FT401  购房建房装修借款额度（元）\n",
    "    - FT5   待偿银行贷款（除房贷） 是否\n",
    "        - FT501  您家待偿贷款额（元）\n",
    "    - FT6 待偿亲友借款 是否\n",
    "        -  FT601 您家待偿亲友借款（元）"
   ]
  },
  {
   "cell_type": "code",
   "execution_count": 23,
   "id": "3d326d7b",
   "metadata": {},
   "outputs": [],
   "source": [
    "# 进行数据集的合并，主表为famecon，辅表为处理好的grouped，这样，每个家庭的平均年龄就添加到表中了。\n",
    "famecon = data_famecon.set_index('fid18')\n",
    "merge1=pd.merge(left=famecon,right=grouped,on='fid18')"
   ]
  },
  {
   "cell_type": "code",
   "execution_count": 24,
   "id": "421ebe12",
   "metadata": {},
   "outputs": [
    {
     "data": {
      "text/html": [
       "<div>\n",
       "<style scoped>\n",
       "    .dataframe tbody tr th:only-of-type {\n",
       "        vertical-align: middle;\n",
       "    }\n",
       "\n",
       "    .dataframe tbody tr th {\n",
       "        vertical-align: top;\n",
       "    }\n",
       "\n",
       "    .dataframe thead th {\n",
       "        text-align: right;\n",
       "    }\n",
       "</style>\n",
       "<table border=\"1\" class=\"dataframe\">\n",
       "  <thead>\n",
       "    <tr style=\"text-align: right;\">\n",
       "      <th></th>\n",
       "      <th>fid18</th>\n",
       "      <th>fid16</th>\n",
       "      <th>fid14</th>\n",
       "      <th>fid12</th>\n",
       "      <th>fid10</th>\n",
       "      <th>provcd18</th>\n",
       "      <th>countyid18</th>\n",
       "      <th>cid18</th>\n",
       "      <th>urban18</th>\n",
       "      <th>iwmode</th>\n",
       "      <th>...</th>\n",
       "      <th>subpopulation</th>\n",
       "      <th>subsample</th>\n",
       "      <th>familysize18</th>\n",
       "      <th>psu</th>\n",
       "      <th>fswt_natcs18n</th>\n",
       "      <th>interrupt</th>\n",
       "      <th>interviewerid18</th>\n",
       "      <th>releaseversion</th>\n",
       "      <th>age_mean</th>\n",
       "      <th>age_segment</th>\n",
       "    </tr>\n",
       "  </thead>\n",
       "  <tbody>\n",
       "    <tr>\n",
       "      <th>0</th>\n",
       "      <td>100051.0</td>\n",
       "      <td>100051.0</td>\n",
       "      <td>100051.0</td>\n",
       "      <td>110043.0</td>\n",
       "      <td>110043.0</td>\n",
       "      <td>11.0</td>\n",
       "      <td>45.0</td>\n",
       "      <td>624942.0</td>\n",
       "      <td>1.0</td>\n",
       "      <td>2.0</td>\n",
       "      <td>...</td>\n",
       "      <td>6.0</td>\n",
       "      <td>1.0</td>\n",
       "      <td>3.0</td>\n",
       "      <td>45.0</td>\n",
       "      <td>1.181271</td>\n",
       "      <td>NaN</td>\n",
       "      <td>761040.0</td>\n",
       "      <td>2.2</td>\n",
       "      <td>42.137900</td>\n",
       "      <td>23-45</td>\n",
       "    </tr>\n",
       "    <tr>\n",
       "      <th>1</th>\n",
       "      <td>100160.0</td>\n",
       "      <td>100160.0</td>\n",
       "      <td>100160.0</td>\n",
       "      <td>120009.0</td>\n",
       "      <td>120009.0</td>\n",
       "      <td>12.0</td>\n",
       "      <td>79.0</td>\n",
       "      <td>NaN</td>\n",
       "      <td>1.0</td>\n",
       "      <td>1.0</td>\n",
       "      <td>...</td>\n",
       "      <td>6.0</td>\n",
       "      <td>1.0</td>\n",
       "      <td>2.0</td>\n",
       "      <td>79.0</td>\n",
       "      <td>2.306826</td>\n",
       "      <td>NaN</td>\n",
       "      <td>459505.0</td>\n",
       "      <td>2.2</td>\n",
       "      <td>28.267123</td>\n",
       "      <td>23-45</td>\n",
       "    </tr>\n",
       "    <tr>\n",
       "      <th>2</th>\n",
       "      <td>100286.0</td>\n",
       "      <td>100286.0</td>\n",
       "      <td>100286.0</td>\n",
       "      <td>130005.0</td>\n",
       "      <td>130005.0</td>\n",
       "      <td>13.0</td>\n",
       "      <td>239.0</td>\n",
       "      <td>NaN</td>\n",
       "      <td>1.0</td>\n",
       "      <td>2.0</td>\n",
       "      <td>...</td>\n",
       "      <td>6.0</td>\n",
       "      <td>1.0</td>\n",
       "      <td>1.0</td>\n",
       "      <td>47.0</td>\n",
       "      <td>1.985643</td>\n",
       "      <td>NaN</td>\n",
       "      <td>966285.0</td>\n",
       "      <td>2.2</td>\n",
       "      <td>39.778082</td>\n",
       "      <td>23-45</td>\n",
       "    </tr>\n",
       "    <tr>\n",
       "      <th>3</th>\n",
       "      <td>100435.0</td>\n",
       "      <td>100435.0</td>\n",
       "      <td>100435.0</td>\n",
       "      <td>130155.0</td>\n",
       "      <td>130155.0</td>\n",
       "      <td>13.0</td>\n",
       "      <td>52.0</td>\n",
       "      <td>121200.0</td>\n",
       "      <td>0.0</td>\n",
       "      <td>2.0</td>\n",
       "      <td>...</td>\n",
       "      <td>6.0</td>\n",
       "      <td>1.0</td>\n",
       "      <td>4.0</td>\n",
       "      <td>52.0</td>\n",
       "      <td>0.965663</td>\n",
       "      <td>NaN</td>\n",
       "      <td>771787.0</td>\n",
       "      <td>2.2</td>\n",
       "      <td>17.260959</td>\n",
       "      <td>16-22</td>\n",
       "    </tr>\n",
       "    <tr>\n",
       "      <th>4</th>\n",
       "      <td>100453.0</td>\n",
       "      <td>100453.0</td>\n",
       "      <td>100453.0</td>\n",
       "      <td>100453.0</td>\n",
       "      <td>430111.0</td>\n",
       "      <td>43.0</td>\n",
       "      <td>29.0</td>\n",
       "      <td>533420.0</td>\n",
       "      <td>1.0</td>\n",
       "      <td>1.0</td>\n",
       "      <td>...</td>\n",
       "      <td>6.0</td>\n",
       "      <td>1.0</td>\n",
       "      <td>6.0</td>\n",
       "      <td>29.0</td>\n",
       "      <td>2.313559</td>\n",
       "      <td>NaN</td>\n",
       "      <td>821293.0</td>\n",
       "      <td>2.2</td>\n",
       "      <td>35.828311</td>\n",
       "      <td>23-45</td>\n",
       "    </tr>\n",
       "    <tr>\n",
       "      <th>...</th>\n",
       "      <td>...</td>\n",
       "      <td>...</td>\n",
       "      <td>...</td>\n",
       "      <td>...</td>\n",
       "      <td>...</td>\n",
       "      <td>...</td>\n",
       "      <td>...</td>\n",
       "      <td>...</td>\n",
       "      <td>...</td>\n",
       "      <td>...</td>\n",
       "      <td>...</td>\n",
       "      <td>...</td>\n",
       "      <td>...</td>\n",
       "      <td>...</td>\n",
       "      <td>...</td>\n",
       "      <td>...</td>\n",
       "      <td>...</td>\n",
       "      <td>...</td>\n",
       "      <td>...</td>\n",
       "      <td>...</td>\n",
       "      <td>...</td>\n",
       "    </tr>\n",
       "    <tr>\n",
       "      <th>14213</th>\n",
       "      <td>6609501.0</td>\n",
       "      <td>441838.0</td>\n",
       "      <td>441838.0</td>\n",
       "      <td>441838.0</td>\n",
       "      <td>441838.0</td>\n",
       "      <td>44.0</td>\n",
       "      <td>1985.0</td>\n",
       "      <td>501334.0</td>\n",
       "      <td>1.0</td>\n",
       "      <td>2.0</td>\n",
       "      <td>...</td>\n",
       "      <td>5.0</td>\n",
       "      <td>0.0</td>\n",
       "      <td>1.0</td>\n",
       "      <td>143.0</td>\n",
       "      <td>0.469431</td>\n",
       "      <td>NaN</td>\n",
       "      <td>223345.0</td>\n",
       "      <td>2.2</td>\n",
       "      <td>21.509589</td>\n",
       "      <td>16-22</td>\n",
       "    </tr>\n",
       "    <tr>\n",
       "      <th>14214</th>\n",
       "      <td>6646971.0</td>\n",
       "      <td>621344.0</td>\n",
       "      <td>621344.0</td>\n",
       "      <td>621344.0</td>\n",
       "      <td>621344.0</td>\n",
       "      <td>62.0</td>\n",
       "      <td>140.0</td>\n",
       "      <td>796912.0</td>\n",
       "      <td>1.0</td>\n",
       "      <td>2.0</td>\n",
       "      <td>...</td>\n",
       "      <td>4.0</td>\n",
       "      <td>0.0</td>\n",
       "      <td>2.0</td>\n",
       "      <td>155.0</td>\n",
       "      <td>0.129904</td>\n",
       "      <td>NaN</td>\n",
       "      <td>428499.0</td>\n",
       "      <td>2.2</td>\n",
       "      <td>22.828767</td>\n",
       "      <td>16-22</td>\n",
       "    </tr>\n",
       "    <tr>\n",
       "      <th>14215</th>\n",
       "      <td>6694541.0</td>\n",
       "      <td>211229.0</td>\n",
       "      <td>211229.0</td>\n",
       "      <td>211229.0</td>\n",
       "      <td>211229.0</td>\n",
       "      <td>15.0</td>\n",
       "      <td>592.0</td>\n",
       "      <td>NaN</td>\n",
       "      <td>-9.0</td>\n",
       "      <td>2.0</td>\n",
       "      <td>...</td>\n",
       "      <td>2.0</td>\n",
       "      <td>0.0</td>\n",
       "      <td>1.0</td>\n",
       "      <td>171.0</td>\n",
       "      <td>0.265240</td>\n",
       "      <td>NaN</td>\n",
       "      <td>843997.0</td>\n",
       "      <td>2.2</td>\n",
       "      <td>23.098630</td>\n",
       "      <td>23-45</td>\n",
       "    </tr>\n",
       "    <tr>\n",
       "      <th>14216</th>\n",
       "      <td>6704011.0</td>\n",
       "      <td>220306.0</td>\n",
       "      <td>220306.0</td>\n",
       "      <td>220306.0</td>\n",
       "      <td>220306.0</td>\n",
       "      <td>22.0</td>\n",
       "      <td>59.0</td>\n",
       "      <td>123900.0</td>\n",
       "      <td>1.0</td>\n",
       "      <td>2.0</td>\n",
       "      <td>...</td>\n",
       "      <td>6.0</td>\n",
       "      <td>1.0</td>\n",
       "      <td>1.0</td>\n",
       "      <td>59.0</td>\n",
       "      <td>1.235392</td>\n",
       "      <td>NaN</td>\n",
       "      <td>225081.0</td>\n",
       "      <td>2.2</td>\n",
       "      <td>22.432877</td>\n",
       "      <td>16-22</td>\n",
       "    </tr>\n",
       "    <tr>\n",
       "      <th>14217</th>\n",
       "      <td>6759191.0</td>\n",
       "      <td>410650.0</td>\n",
       "      <td>410650.0</td>\n",
       "      <td>410650.0</td>\n",
       "      <td>410650.0</td>\n",
       "      <td>41.0</td>\n",
       "      <td>105.0</td>\n",
       "      <td>442281.0</td>\n",
       "      <td>1.0</td>\n",
       "      <td>1.0</td>\n",
       "      <td>...</td>\n",
       "      <td>3.0</td>\n",
       "      <td>1.0</td>\n",
       "      <td>2.0</td>\n",
       "      <td>119.0</td>\n",
       "      <td>1.385950</td>\n",
       "      <td>NaN</td>\n",
       "      <td>594704.0</td>\n",
       "      <td>2.2</td>\n",
       "      <td>25.890411</td>\n",
       "      <td>23-45</td>\n",
       "    </tr>\n",
       "  </tbody>\n",
       "</table>\n",
       "<p>14218 rows × 323 columns</p>\n",
       "</div>"
      ],
      "text/plain": [
       "           fid18     fid16     fid14     fid12     fid10  provcd18  \\\n",
       "0       100051.0  100051.0  100051.0  110043.0  110043.0      11.0   \n",
       "1       100160.0  100160.0  100160.0  120009.0  120009.0      12.0   \n",
       "2       100286.0  100286.0  100286.0  130005.0  130005.0      13.0   \n",
       "3       100435.0  100435.0  100435.0  130155.0  130155.0      13.0   \n",
       "4       100453.0  100453.0  100453.0  100453.0  430111.0      43.0   \n",
       "...          ...       ...       ...       ...       ...       ...   \n",
       "14213  6609501.0  441838.0  441838.0  441838.0  441838.0      44.0   \n",
       "14214  6646971.0  621344.0  621344.0  621344.0  621344.0      62.0   \n",
       "14215  6694541.0  211229.0  211229.0  211229.0  211229.0      15.0   \n",
       "14216  6704011.0  220306.0  220306.0  220306.0  220306.0      22.0   \n",
       "14217  6759191.0  410650.0  410650.0  410650.0  410650.0      41.0   \n",
       "\n",
       "       countyid18     cid18  urban18  iwmode  ...  subpopulation  subsample  \\\n",
       "0            45.0  624942.0      1.0     2.0  ...            6.0        1.0   \n",
       "1            79.0       NaN      1.0     1.0  ...            6.0        1.0   \n",
       "2           239.0       NaN      1.0     2.0  ...            6.0        1.0   \n",
       "3            52.0  121200.0      0.0     2.0  ...            6.0        1.0   \n",
       "4            29.0  533420.0      1.0     1.0  ...            6.0        1.0   \n",
       "...           ...       ...      ...     ...  ...            ...        ...   \n",
       "14213      1985.0  501334.0      1.0     2.0  ...            5.0        0.0   \n",
       "14214       140.0  796912.0      1.0     2.0  ...            4.0        0.0   \n",
       "14215       592.0       NaN     -9.0     2.0  ...            2.0        0.0   \n",
       "14216        59.0  123900.0      1.0     2.0  ...            6.0        1.0   \n",
       "14217       105.0  442281.0      1.0     1.0  ...            3.0        1.0   \n",
       "\n",
       "       familysize18    psu  fswt_natcs18n  interrupt  interviewerid18  \\\n",
       "0               3.0   45.0       1.181271        NaN         761040.0   \n",
       "1               2.0   79.0       2.306826        NaN         459505.0   \n",
       "2               1.0   47.0       1.985643        NaN         966285.0   \n",
       "3               4.0   52.0       0.965663        NaN         771787.0   \n",
       "4               6.0   29.0       2.313559        NaN         821293.0   \n",
       "...             ...    ...            ...        ...              ...   \n",
       "14213           1.0  143.0       0.469431        NaN         223345.0   \n",
       "14214           2.0  155.0       0.129904        NaN         428499.0   \n",
       "14215           1.0  171.0       0.265240        NaN         843997.0   \n",
       "14216           1.0   59.0       1.235392        NaN         225081.0   \n",
       "14217           2.0  119.0       1.385950        NaN         594704.0   \n",
       "\n",
       "       releaseversion   age_mean  age_segment  \n",
       "0                 2.2  42.137900        23-45  \n",
       "1                 2.2  28.267123        23-45  \n",
       "2                 2.2  39.778082        23-45  \n",
       "3                 2.2  17.260959        16-22  \n",
       "4                 2.2  35.828311        23-45  \n",
       "...               ...        ...          ...  \n",
       "14213             2.2  21.509589        16-22  \n",
       "14214             2.2  22.828767        16-22  \n",
       "14215             2.2  23.098630        23-45  \n",
       "14216             2.2  22.432877        16-22  \n",
       "14217             2.2  25.890411        23-45  \n",
       "\n",
       "[14218 rows x 323 columns]"
      ]
     },
     "execution_count": 24,
     "metadata": {},
     "output_type": "execute_result"
    }
   ],
   "source": [
    "#接下来，merge1将为我们主要处理的数据集\n",
    "merge1"
   ]
  },
  {
   "cell_type": "code",
   "execution_count": 25,
   "id": "49a75b87",
   "metadata": {},
   "outputs": [],
   "source": [
    "# participation rate\n",
    "# 資產\n",
    "merge1['housing'] = [1 if (i[1]['fq2'] == 1) or (i[1]['fq2'] == 2) or (i[1]['fr1'] == 1) else 0 for i in merge1[['fq2','fr1']].iterrows()]\n",
    "merge1['durable'] = [1 if i>0 else 0 for i in merge1['fs6v'].values]\n",
    "merge1['fin_asset'] = [1 if i == 1 else 0 for i in merge1['ft200'].values]\n",
    "# 負債\n",
    "merge1['mortgage'] = [1 if i==1 else 0 for i in merge1['ft3'].values]\n",
    "merge1['bank_loan'] = [1 if i==1 else 0 for i in merge1['ft5'].values]\n",
    "merge1['friend_loan'] = [1 if i == 1 else 0 for i in merge1['ft6'].values]"
   ]
  },
  {
   "cell_type": "code",
   "execution_count": 26,
   "id": "4c3405b1",
   "metadata": {},
   "outputs": [
    {
     "name": "stdout",
     "output_type": "stream",
     "text": [
      "Participation rate\n"
     ]
    },
    {
     "data": {
      "text/plain": [
       "housing        0.845196\n",
       "durable        0.909833\n",
       "fin_asset      0.056970\n",
       "mortgage       0.116894\n",
       "bank_loan      0.096146\n",
       "friend_loan    0.128991\n",
       "dtype: float64"
      ]
     },
     "execution_count": 26,
     "metadata": {},
     "output_type": "execute_result"
    }
   ],
   "source": [
    "print('Participation rate')\n",
    "merge1[['housing','durable','fin_asset','mortgage','bank_loan','friend_loan']].apply(lambda x: sum(x)/len(x))"
   ]
  },
  {
   "cell_type": "code",
   "execution_count": 27,
   "id": "15ab46df",
   "metadata": {},
   "outputs": [],
   "source": [
    "# 不同家庭人平均年龄看一下participation rate\n",
    "result = merge1[['housing','durable','fin_asset','mortgage','bank_loan','friend_loan']].groupby(merge1['age_segment']).agg(lambda x: sum(x)/len(x))"
   ]
  },
  {
   "cell_type": "code",
   "execution_count": 28,
   "id": "288018d6",
   "metadata": {},
   "outputs": [
    {
     "data": {
      "text/html": [
       "<div>\n",
       "<style scoped>\n",
       "    .dataframe tbody tr th:only-of-type {\n",
       "        vertical-align: middle;\n",
       "    }\n",
       "\n",
       "    .dataframe tbody tr th {\n",
       "        vertical-align: top;\n",
       "    }\n",
       "\n",
       "    .dataframe thead th {\n",
       "        text-align: right;\n",
       "    }\n",
       "</style>\n",
       "<table border=\"1\" class=\"dataframe\">\n",
       "  <thead>\n",
       "    <tr style=\"text-align: right;\">\n",
       "      <th></th>\n",
       "      <th>housing</th>\n",
       "      <th>durable</th>\n",
       "      <th>fin_asset</th>\n",
       "      <th>mortgage</th>\n",
       "      <th>bank_loan</th>\n",
       "      <th>friend_loan</th>\n",
       "    </tr>\n",
       "    <tr>\n",
       "      <th>age_segment</th>\n",
       "      <th></th>\n",
       "      <th></th>\n",
       "      <th></th>\n",
       "      <th></th>\n",
       "      <th></th>\n",
       "      <th></th>\n",
       "    </tr>\n",
       "  </thead>\n",
       "  <tbody>\n",
       "    <tr>\n",
       "      <th>0-16</th>\n",
       "      <td>0.695853</td>\n",
       "      <td>0.884793</td>\n",
       "      <td>0.046083</td>\n",
       "      <td>0.152074</td>\n",
       "      <td>0.156682</td>\n",
       "      <td>0.179724</td>\n",
       "    </tr>\n",
       "    <tr>\n",
       "      <th>16-22</th>\n",
       "      <td>0.649108</td>\n",
       "      <td>0.891249</td>\n",
       "      <td>0.050127</td>\n",
       "      <td>0.194562</td>\n",
       "      <td>0.149533</td>\n",
       "      <td>0.141886</td>\n",
       "    </tr>\n",
       "    <tr>\n",
       "      <th>23-45</th>\n",
       "      <td>0.858331</td>\n",
       "      <td>0.928187</td>\n",
       "      <td>0.057499</td>\n",
       "      <td>0.138243</td>\n",
       "      <td>0.116100</td>\n",
       "      <td>0.150966</td>\n",
       "    </tr>\n",
       "    <tr>\n",
       "      <th>46-60</th>\n",
       "      <td>0.910046</td>\n",
       "      <td>0.913409</td>\n",
       "      <td>0.065153</td>\n",
       "      <td>0.086171</td>\n",
       "      <td>0.064313</td>\n",
       "      <td>0.113913</td>\n",
       "    </tr>\n",
       "    <tr>\n",
       "      <th>60+</th>\n",
       "      <td>0.845815</td>\n",
       "      <td>0.852423</td>\n",
       "      <td>0.051101</td>\n",
       "      <td>0.028634</td>\n",
       "      <td>0.024229</td>\n",
       "      <td>0.054185</td>\n",
       "    </tr>\n",
       "  </tbody>\n",
       "</table>\n",
       "</div>"
      ],
      "text/plain": [
       "              housing   durable  fin_asset  mortgage  bank_loan  friend_loan\n",
       "age_segment                                                                 \n",
       "0-16         0.695853  0.884793   0.046083  0.152074   0.156682     0.179724\n",
       "16-22        0.649108  0.891249   0.050127  0.194562   0.149533     0.141886\n",
       "23-45        0.858331  0.928187   0.057499  0.138243   0.116100     0.150966\n",
       "46-60        0.910046  0.913409   0.065153  0.086171   0.064313     0.113913\n",
       "60+          0.845815  0.852423   0.051101  0.028634   0.024229     0.054185"
      ]
     },
     "execution_count": 28,
     "metadata": {},
     "output_type": "execute_result"
    }
   ],
   "source": [
    "result"
   ]
  },
  {
   "cell_type": "code",
   "execution_count": 29,
   "id": "89b0b55b",
   "metadata": {},
   "outputs": [
    {
     "data": {
      "text/plain": [
       "<matplotlib.collections.PathCollection at 0x245bf591648>"
      ]
     },
     "execution_count": 29,
     "metadata": {},
     "output_type": "execute_result"
    },
    {
     "data": {
      "text/plain": [
       "<matplotlib.collections.PathCollection at 0x245bf591cc8>"
      ]
     },
     "execution_count": 29,
     "metadata": {},
     "output_type": "execute_result"
    },
    {
     "data": {
      "text/plain": [
       "<matplotlib.collections.PathCollection at 0x245bf5977c8>"
      ]
     },
     "execution_count": 29,
     "metadata": {},
     "output_type": "execute_result"
    },
    {
     "data": {
      "text/plain": [
       "<matplotlib.legend.Legend at 0x245bf5ab288>"
      ]
     },
     "execution_count": 29,
     "metadata": {},
     "output_type": "execute_result"
    },
    {
     "data": {
      "text/plain": [
       "Text(0.5, 0, 'family average age')"
      ]
     },
     "execution_count": 29,
     "metadata": {},
     "output_type": "execute_result"
    },
    {
     "data": {
      "text/plain": [
       "Text(0, 0.5, 'participation rate')"
      ]
     },
     "execution_count": 29,
     "metadata": {},
     "output_type": "execute_result"
    },
    {
     "data": {
      "text/plain": [
       "<matplotlib.collections.PathCollection at 0x245bf5d9408>"
      ]
     },
     "execution_count": 29,
     "metadata": {},
     "output_type": "execute_result"
    },
    {
     "data": {
      "text/plain": [
       "<matplotlib.collections.PathCollection at 0x245bf5d9608>"
      ]
     },
     "execution_count": 29,
     "metadata": {},
     "output_type": "execute_result"
    },
    {
     "data": {
      "text/plain": [
       "<matplotlib.collections.PathCollection at 0x245bf5d9f08>"
      ]
     },
     "execution_count": 29,
     "metadata": {},
     "output_type": "execute_result"
    },
    {
     "data": {
      "text/plain": [
       "<matplotlib.legend.Legend at 0x245bf580ac8>"
      ]
     },
     "execution_count": 29,
     "metadata": {},
     "output_type": "execute_result"
    },
    {
     "data": {
      "text/plain": [
       "Text(0.5, 0, 'family average age')"
      ]
     },
     "execution_count": 29,
     "metadata": {},
     "output_type": "execute_result"
    },
    {
     "data": {
      "text/plain": [
       "Text(0, 0.5, 'participation rate')"
      ]
     },
     "execution_count": 29,
     "metadata": {},
     "output_type": "execute_result"
    },
    {
     "data": {
      "image/png": "[encoded data removed]",
      "text/plain": [
       "<Figure size 2000x1400 with 2 Axes>"
      ]
     },
     "metadata": {
      "needs_background": "light"
     },
     "output_type": "display_data"
    }
   ],
   "source": [
    "# 设置风格\n",
    "# plt.style.use('ggplot')\n",
    "# colors = ['#c72e29','#098154','#fb832d']#三种不同颜色\n",
    "colors = ['blue','red','orange']\n",
    "# markers = ['$\\clubsuit$','.','+']#三种不同图形，都把点的形状换成了规则且明显的图形\n",
    "markers = ['H','p','d']\n",
    "fig = plt.figure(figsize=(10,7),dpi=200)\n",
    "plt.style.use('seaborn-darkgrid')#指定风格,ggplot太丑了\n",
    "# plt.scatter(result.index[0:10], result.iloc[0:10,0])\n",
    "for j in [1,2]:\n",
    "    ax = fig.add_subplot(2,1,j)\n",
    "    for i in range(3):\n",
    "        ax.scatter(result.index[0:9],#传入数据x\n",
    "                   result.iloc[0:9,(j-1)*3+i],#传入数据y\n",
    "                    s = 150,#散点图形（marker）的大小\n",
    "                    c = colors[i],#marker颜色\n",
    "                    marker = markers[i],#marker形状\n",
    "                    #marker=matplotlib.markers.MarkerStyle(marker = markers[i],fillstyle='full'),#设置marker的填充\n",
    "                    alpha=0.8,#marker透明度，范围为0-1\n",
    "                    facecolors='r',#marker的填充颜色，当上面c参数设置了颜色，优先c\n",
    "                    edgecolors='none',#marker的边缘线色\n",
    "                    linewidths=1,#marker边缘线宽度，edgecolors不设置时，该参数不起作用\n",
    "                    label = result.columns[(j-1)*3+i])#后面图例的名称取自label\n",
    "                 \n",
    " \n",
    "    plt.legend(loc = 'best')\n",
    "    plt.xlabel('family average age')\n",
    "    plt.ylabel(\"participation rate\")\n",
    "plt.show()\n",
    "# plt.savefig('ages.png')"
   ]
  },
  {
   "cell_type": "markdown",
   "id": "77f20ea1",
   "metadata": {},
   "source": [
    "## 至此，家庭资产按照年龄分析已经做完了"
   ]
  },
  {
   "cell_type": "code",
   "execution_count": null,
   "id": "a75a0897",
   "metadata": {},
   "outputs": [],
   "source": []
  },
  {
   "cell_type": "markdown",
   "id": "20df3f01",
   "metadata": {},
   "source": [
    "## 下面，分析老年人资产"
   ]
  },
  {
   "cell_type": "markdown",
   "id": "e39a332e",
   "metadata": {},
   "source": [
    "老年人财产来源：退休金(fn301)、子女给的钱(fn401)、亲戚给的钱(fn4)、其他人给的钱(fn5)"
   ]
  },
  {
   "cell_type": "code",
   "execution_count": 30,
   "id": "a89c42a3",
   "metadata": {},
   "outputs": [
    {
     "data": {
      "text/html": [
       "<div>\n",
       "<style scoped>\n",
       "    .dataframe tbody tr th:only-of-type {\n",
       "        vertical-align: middle;\n",
       "    }\n",
       "\n",
       "    .dataframe tbody tr th {\n",
       "        vertical-align: top;\n",
       "    }\n",
       "\n",
       "    .dataframe thead th {\n",
       "        text-align: right;\n",
       "    }\n",
       "</style>\n",
       "<table border=\"1\" class=\"dataframe\">\n",
       "  <thead>\n",
       "    <tr style=\"text-align: right;\">\n",
       "      <th></th>\n",
       "      <th>fn3</th>\n",
       "      <th>fn301</th>\n",
       "      <th>fn401</th>\n",
       "      <th>fn4</th>\n",
       "      <th>fn5</th>\n",
       "    </tr>\n",
       "    <tr>\n",
       "      <th>fid18</th>\n",
       "      <th></th>\n",
       "      <th></th>\n",
       "      <th></th>\n",
       "      <th></th>\n",
       "      <th></th>\n",
       "    </tr>\n",
       "  </thead>\n",
       "  <tbody>\n",
       "    <tr>\n",
       "      <th>100051.0</th>\n",
       "      <td>5.0</td>\n",
       "      <td>-8.0</td>\n",
       "      <td>0.0</td>\n",
       "      <td>0.0</td>\n",
       "      <td>0.0</td>\n",
       "    </tr>\n",
       "    <tr>\n",
       "      <th>100160.0</th>\n",
       "      <td>5.0</td>\n",
       "      <td>-8.0</td>\n",
       "      <td>0.0</td>\n",
       "      <td>10000.0</td>\n",
       "      <td>0.0</td>\n",
       "    </tr>\n",
       "    <tr>\n",
       "      <th>100286.0</th>\n",
       "      <td>5.0</td>\n",
       "      <td>-8.0</td>\n",
       "      <td>0.0</td>\n",
       "      <td>0.0</td>\n",
       "      <td>0.0</td>\n",
       "    </tr>\n",
       "    <tr>\n",
       "      <th>100435.0</th>\n",
       "      <td>5.0</td>\n",
       "      <td>-8.0</td>\n",
       "      <td>0.0</td>\n",
       "      <td>0.0</td>\n",
       "      <td>0.0</td>\n",
       "    </tr>\n",
       "    <tr>\n",
       "      <th>100453.0</th>\n",
       "      <td>1.0</td>\n",
       "      <td>50000.0</td>\n",
       "      <td>0.0</td>\n",
       "      <td>0.0</td>\n",
       "      <td>0.0</td>\n",
       "    </tr>\n",
       "    <tr>\n",
       "      <th>...</th>\n",
       "      <td>...</td>\n",
       "      <td>...</td>\n",
       "      <td>...</td>\n",
       "      <td>...</td>\n",
       "      <td>...</td>\n",
       "    </tr>\n",
       "    <tr>\n",
       "      <th>6609501.0</th>\n",
       "      <td>5.0</td>\n",
       "      <td>-8.0</td>\n",
       "      <td>0.0</td>\n",
       "      <td>0.0</td>\n",
       "      <td>0.0</td>\n",
       "    </tr>\n",
       "    <tr>\n",
       "      <th>6646971.0</th>\n",
       "      <td>5.0</td>\n",
       "      <td>-8.0</td>\n",
       "      <td>0.0</td>\n",
       "      <td>0.0</td>\n",
       "      <td>0.0</td>\n",
       "    </tr>\n",
       "    <tr>\n",
       "      <th>6694541.0</th>\n",
       "      <td>5.0</td>\n",
       "      <td>-8.0</td>\n",
       "      <td>0.0</td>\n",
       "      <td>0.0</td>\n",
       "      <td>0.0</td>\n",
       "    </tr>\n",
       "    <tr>\n",
       "      <th>6704011.0</th>\n",
       "      <td>5.0</td>\n",
       "      <td>-8.0</td>\n",
       "      <td>0.0</td>\n",
       "      <td>0.0</td>\n",
       "      <td>0.0</td>\n",
       "    </tr>\n",
       "    <tr>\n",
       "      <th>6759191.0</th>\n",
       "      <td>5.0</td>\n",
       "      <td>-8.0</td>\n",
       "      <td>0.0</td>\n",
       "      <td>0.0</td>\n",
       "      <td>0.0</td>\n",
       "    </tr>\n",
       "  </tbody>\n",
       "</table>\n",
       "<p>14218 rows × 5 columns</p>\n",
       "</div>"
      ],
      "text/plain": [
       "           fn3    fn301  fn401      fn4  fn5\n",
       "fid18                                       \n",
       "100051.0   5.0     -8.0    0.0      0.0  0.0\n",
       "100160.0   5.0     -8.0    0.0  10000.0  0.0\n",
       "100286.0   5.0     -8.0    0.0      0.0  0.0\n",
       "100435.0   5.0     -8.0    0.0      0.0  0.0\n",
       "100453.0   1.0  50000.0    0.0      0.0  0.0\n",
       "...        ...      ...    ...      ...  ...\n",
       "6609501.0  5.0     -8.0    0.0      0.0  0.0\n",
       "6646971.0  5.0     -8.0    0.0      0.0  0.0\n",
       "6694541.0  5.0     -8.0    0.0      0.0  0.0\n",
       "6704011.0  5.0     -8.0    0.0      0.0  0.0\n",
       "6759191.0  5.0     -8.0    0.0      0.0  0.0\n",
       "\n",
       "[14218 rows x 5 columns]"
      ]
     },
     "execution_count": 30,
     "metadata": {},
     "output_type": "execute_result"
    }
   ],
   "source": [
    "famecon.loc[:,['fn3','fn301','fn401','fn4','fn5']]"
   ]
  },
  {
   "cell_type": "code",
   "execution_count": 31,
   "id": "ddef8960",
   "metadata": {},
   "outputs": [],
   "source": [
    "def total_assets(x):\n",
    "    if (x[0]==-8):     #-8:无退休金\n",
    "        return x[1]+x[2]+x[3]\n",
    "    return x[0]+x[1]+x[2]+x[3]\n",
    "\n",
    "#上面是计算老年人财产的函数，并以此计算\n",
    "famecon['elderly_asset']=famecon[['fn301','fn401','fn4','fn5']].apply(total_assets,axis=1)"
   ]
  },
  {
   "cell_type": "code",
   "execution_count": 32,
   "id": "00a1f41f",
   "metadata": {},
   "outputs": [
    {
     "data": {
      "text/plain": [
       "0.0        6577\n",
       "2000.0      344\n",
       "1000.0      341\n",
       "10000.0     229\n",
       "20000.0     220\n",
       "           ... \n",
       "1505.0        1\n",
       "6840.0        1\n",
       "11320.0       1\n",
       "18760.0       1\n",
       "1099.0        1\n",
       "Name: elderly_asset, Length: 1214, dtype: int64"
      ]
     },
     "execution_count": 32,
     "metadata": {},
     "output_type": "execute_result"
    },
    {
     "data": {
      "text/plain": [
       "count      14218.000000\n",
       "mean       10390.715572\n",
       "std        26691.787812\n",
       "min           -3.000000\n",
       "25%            0.000000\n",
       "50%          500.000000\n",
       "75%         6000.000000\n",
       "max      1000000.000000\n",
       "Name: elderly_asset, dtype: float64"
      ]
     },
     "execution_count": 32,
     "metadata": {},
     "output_type": "execute_result"
    }
   ],
   "source": [
    "famecon['elderly_asset'].value_counts()\n",
    "famecon['elderly_asset'].describe()"
   ]
  },
  {
   "cell_type": "code",
   "execution_count": 33,
   "id": "01da898e",
   "metadata": {},
   "outputs": [
    {
     "data": {
      "text/plain": [
       "0-3000         9789\n",
       "10001-30000    1348\n",
       "30001-70000    1101\n",
       "3001-7000      1011\n",
       "70001+          486\n",
       "7001-10000      482\n",
       "Name: asset_segment, dtype: int64"
      ]
     },
     "execution_count": 33,
     "metadata": {},
     "output_type": "execute_result"
    }
   ],
   "source": [
    "#财产分段\n",
    "asset_cut=[-3,3001,7001,10001,30001,70001,1000000]\n",
    "asset_seg=pd.cut(famecon['elderly_asset'],bins=asset_cut,labels=['0-3000','3001-7000','7001-10000','10001-30000','30001-70000','70001+'])\n",
    "famecon['asset_segment']=asset_seg.values\n",
    "c=famecon['asset_segment'].value_counts()\n",
    "c"
   ]
  },
  {
   "cell_type": "code",
   "execution_count": 34,
   "id": "4da8cec3",
   "metadata": {},
   "outputs": [
    {
     "data": {
      "text/plain": [
       "<Figure size 1164.96x720 with 0 Axes>"
      ]
     },
     "execution_count": 34,
     "metadata": {},
     "output_type": "execute_result"
    },
    {
     "data": {
      "text/plain": [
       "<BarContainer object of 6 artists>"
      ]
     },
     "execution_count": 34,
     "metadata": {},
     "output_type": "execute_result"
    },
    {
     "data": {
      "text/plain": [
       "Text(0.5, 1.0, '财产分布')"
      ]
     },
     "execution_count": 34,
     "metadata": {},
     "output_type": "execute_result"
    },
    {
     "data": {
      "image/png": "[encoded data removed]",
      "text/plain": [
       "<Figure size 1164.96x720 with 1 Axes>"
      ]
     },
     "metadata": {},
     "output_type": "display_data"
    }
   ],
   "source": [
    "#防止中文乱码\n",
    "plt.rcParams['font.sans-serif'] = ['Microsoft YaHei']\n",
    "plt.rcParams['axes.unicode_minus'] = False\n",
    "plt.figure(figsize=(16.18,10))\n",
    "plt.bar(c.index, c.values)\n",
    "plt.title('财产分布')\n",
    "plt.show()"
   ]
  },
  {
   "cell_type": "markdown",
   "id": "b7bff1dd",
   "metadata": {},
   "source": [
    "### 下面对养老金进行划分"
   ]
  },
  {
   "cell_type": "code",
   "execution_count": 35,
   "id": "9c38795d",
   "metadata": {},
   "outputs": [
    {
     "data": {
      "text/plain": [
       "count     14218.000000\n",
       "mean       7608.400338\n",
       "std       20274.615214\n",
       "min          -8.000000\n",
       "25%          -8.000000\n",
       "50%          -8.000000\n",
       "75%        1800.000000\n",
       "max      336000.000000\n",
       "Name: fn301, dtype: float64"
      ]
     },
     "execution_count": 35,
     "metadata": {},
     "output_type": "execute_result"
    }
   ],
   "source": [
    "famecon['fn301'].describe()"
   ]
  },
  {
   "cell_type": "code",
   "execution_count": 36,
   "id": "bd549964",
   "metadata": {},
   "outputs": [
    {
     "data": {
      "text/plain": [
       "count      5218.000000\n",
       "mean      20745.069950\n",
       "std       29112.092621\n",
       "min           1.000000\n",
       "25%        1260.000000\n",
       "50%        3200.000000\n",
       "75%       31200.000000\n",
       "max      336000.000000\n",
       "Name: fn301, dtype: float64"
      ]
     },
     "execution_count": 36,
     "metadata": {},
     "output_type": "execute_result"
    }
   ],
   "source": [
    "#小于零的都是缺失的数据，可见缺失的数据非常多，无法直接丢弃，那么取出所有有效值观察数据的分组，再进行空数据填充\n",
    "f1=famecon[famecon.fn301>0]\n",
    "f1['fn301'].describe()"
   ]
  },
  {
   "cell_type": "code",
   "execution_count": 37,
   "id": "2c9c1ad3",
   "metadata": {},
   "outputs": [
    {
     "data": {
      "text/plain": [
       "'\\n由上所示，众数是1800，所以所有缺失的数据都以75%四分位数1800代替\\n理论上说，应该保证填充的数据与原数据是同分布的，但是代码过程较为繁琐\\n且原数据是长尾分布，1800的数量非常多，其他数据的分布形式意义不大，那么1800填充也是合理的\\n在下一步分组之中，填充值在0-3000之内的变化，并不会影响分组的结果\\n'"
      ]
     },
     "execution_count": 37,
     "metadata": {},
     "output_type": "execute_result"
    }
   ],
   "source": [
    "'''\n",
    "由上所示，众数是1800，所以所有缺失的数据都以75%四分位数1800代替\n",
    "理论上说，应该保证填充的数据与原数据是同分布的，但是代码过程较为繁琐\n",
    "且原数据是长尾分布，1800的数量非常多，其他数据的分布形式意义不大，那么1800填充也是合理的\n",
    "在下一步分组之中，填充值在0-3000之内的变化，并不会影响分组的结果\n",
    "'''\n",
    "famecon.fn301[famecon.fn301<0] = 1800"
   ]
  },
  {
   "cell_type": "code",
   "execution_count": 38,
   "id": "57c09a83",
   "metadata": {},
   "outputs": [
    {
     "data": {
      "text/plain": [
       "count     14218.000000\n",
       "mean       8752.832677\n",
       "std       19859.139112\n",
       "min           1.000000\n",
       "25%        1800.000000\n",
       "50%        1800.000000\n",
       "75%        1800.000000\n",
       "max      336000.000000\n",
       "Name: fn301, dtype: float64"
      ]
     },
     "execution_count": 38,
     "metadata": {},
     "output_type": "execute_result"
    }
   ],
   "source": [
    "famecon['fn301'].describe()"
   ]
  },
  {
   "cell_type": "code",
   "execution_count": 39,
   "id": "e297cafe",
   "metadata": {},
   "outputs": [],
   "source": [
    "#一个手动实现养老金金额划分的函数\n",
    "def split_pension(x):\n",
    "    if ((x>=0) &(x<3001)):     \n",
    "        return '0-3000'\n",
    "    elif ((x>=3001) &(x<7001)):     \n",
    "        return '3001-7000'\n",
    "    elif ((x>=7001) &(x<10001)):     \n",
    "        return '7001-10001'\n",
    "    elif ((x>=7001) &(x<10001)):     \n",
    "        return '7001-10001'\n",
    "    elif ((x>=10001) &(x<30001)):     \n",
    "        return '10001-30001'\n",
    "    elif ((x>=30001) &(x<70001)):     \n",
    "        return '30001-70001'\n",
    "    elif ((x>=70001) &(x<100001)):     \n",
    "        return '70001-100001'\n",
    "    elif ((x>=100001)):     \n",
    "        return '100001+'\n",
    "famecon['split_pension']=famecon['fn301'].apply(split_pension)"
   ]
  },
  {
   "cell_type": "code",
   "execution_count": 40,
   "id": "4c518080",
   "metadata": {},
   "outputs": [
    {
     "data": {
      "text/plain": [
       "0-3000          11597\n",
       "10001-30001       969\n",
       "30001-70001       947\n",
       "70001-100001      280\n",
       "3001-7000         203\n",
       "7001-10001        129\n",
       "100001+            93\n",
       "Name: split_pension, dtype: int64"
      ]
     },
     "execution_count": 40,
     "metadata": {},
     "output_type": "execute_result"
    }
   ],
   "source": [
    "#观察分组后的情况\n",
    "a=famecon['split_pension'].value_counts()\n",
    "a"
   ]
  },
  {
   "cell_type": "code",
   "execution_count": 41,
   "id": "1f6f5f38",
   "metadata": {},
   "outputs": [
    {
     "data": {
      "text/plain": [
       "<Figure size 1164.96x720 with 0 Axes>"
      ]
     },
     "execution_count": 41,
     "metadata": {},
     "output_type": "execute_result"
    },
    {
     "data": {
      "text/plain": [
       "<BarContainer object of 7 artists>"
      ]
     },
     "execution_count": 41,
     "metadata": {},
     "output_type": "execute_result"
    },
    {
     "data": {
      "text/plain": [
       "Text(0.5, 1.0, '不同养老金的分布人数')"
      ]
     },
     "execution_count": 41,
     "metadata": {},
     "output_type": "execute_result"
    },
    {
     "data": {
      "text/plain": [
       "Text(0, 11600, '11597')"
      ]
     },
     "execution_count": 41,
     "metadata": {},
     "output_type": "execute_result"
    },
    {
     "data": {
      "text/plain": [
       "Text(1, 972, '969')"
      ]
     },
     "execution_count": 41,
     "metadata": {},
     "output_type": "execute_result"
    },
    {
     "data": {
      "text/plain": [
       "Text(2, 950, '947')"
      ]
     },
     "execution_count": 41,
     "metadata": {},
     "output_type": "execute_result"
    },
    {
     "data": {
      "text/plain": [
       "Text(3, 283, '280')"
      ]
     },
     "execution_count": 41,
     "metadata": {},
     "output_type": "execute_result"
    },
    {
     "data": {
      "text/plain": [
       "Text(4, 206, '203')"
      ]
     },
     "execution_count": 41,
     "metadata": {},
     "output_type": "execute_result"
    },
    {
     "data": {
      "text/plain": [
       "Text(5, 132, '129')"
      ]
     },
     "execution_count": 41,
     "metadata": {},
     "output_type": "execute_result"
    },
    {
     "data": {
      "text/plain": [
       "Text(6, 96, '93')"
      ]
     },
     "execution_count": 41,
     "metadata": {},
     "output_type": "execute_result"
    },
    {
     "data": {
      "text/plain": [
       "Text(0, 0.5, '人数(个)')"
      ]
     },
     "execution_count": 41,
     "metadata": {},
     "output_type": "execute_result"
    },
    {
     "data": {
      "text/plain": [
       "Text(0.5, 0, '养老金(RMB)')"
      ]
     },
     "execution_count": 41,
     "metadata": {},
     "output_type": "execute_result"
    },
    {
     "data": {
      "image/png": "[encoded data removed]",
      "text/plain": [
       "<Figure size 1164.96x720 with 1 Axes>"
      ]
     },
     "metadata": {},
     "output_type": "display_data"
    }
   ],
   "source": [
    "#画图解决问题\n",
    "plt.figure(figsize=(16.18,10))\n",
    "plt.bar(a.index,a.values,color=['r','lightgreen','b','black','orange','green','yellow'])\n",
    "plt.title('不同养老金的分布人数',size=30)\n",
    "#显示每条的具体数值\n",
    "for x,y in enumerate(a.values):\n",
    "    plt.text(x,y+3,\"%s\"%round(y,1),ha='center',size=15)\n",
    "#设置坐标刻度值的大小\n",
    "plt.tick_params(labelsize=15)\n",
    "#设置横纵坐标\n",
    "plt.ylabel(\"人数(个)\",size=25)\n",
    "plt.xlabel(\"养老金(RMB)\",size=25)\n",
    "plt.show()"
   ]
  },
  {
   "cell_type": "markdown",
   "id": "43651d81",
   "metadata": {},
   "source": [
    "### 至此，养老金维度结束"
   ]
  },
  {
   "cell_type": "code",
   "execution_count": null,
   "id": "d15fe34c",
   "metadata": {},
   "outputs": [],
   "source": []
  },
  {
   "cell_type": "markdown",
   "id": "41c3bb68",
   "metadata": {},
   "source": [
    "### 下面进行子女数量维度的处理"
   ]
  },
  {
   "cell_type": "code",
   "execution_count": 42,
   "id": "9d800acf",
   "metadata": {},
   "outputs": [],
   "source": [
    "#采用的方法是，对pid_a_c1-10变量进行统计，如果有就加一，函数返回值为子女数量\n",
    "def child_num(x):\n",
    "    a=0\n",
    "    for i in range(8):\n",
    "        if x[i]!=-8:\n",
    "            a+=1\n",
    "    return a\n",
    "\n",
    "\n",
    "famconf['child_num']=famconf[['pid_a_c1','pid_a_c2','pid_a_c3','pid_a_c4','pid_a_c5','pid_a_c6','pid_a_c7','pid_a_c8','pid_a_c9','pid_a_c10']].apply(child_num,axis=1)"
   ]
  },
  {
   "cell_type": "code",
   "execution_count": 43,
   "id": "e527f36d",
   "metadata": {},
   "outputs": [
    {
     "data": {
      "text/plain": [
       "count    55793.000000\n",
       "mean         1.227699\n",
       "std          1.249945\n",
       "min          0.000000\n",
       "25%          0.000000\n",
       "50%          1.000000\n",
       "75%          2.000000\n",
       "max          8.000000\n",
       "Name: child_num, dtype: float64"
      ]
     },
     "execution_count": 43,
     "metadata": {},
     "output_type": "execute_result"
    }
   ],
   "source": [
    "#看一下子女数量的分布，现在的还是所有人的子女数量\n",
    "famconf[\"child_num\"].describe()"
   ]
  },
  {
   "cell_type": "code",
   "execution_count": 90,
   "id": "1fc0b201",
   "metadata": {},
   "outputs": [
    {
     "data": {
      "text/html": [
       "<div>\n",
       "<style scoped>\n",
       "    .dataframe tbody tr th:only-of-type {\n",
       "        vertical-align: middle;\n",
       "    }\n",
       "\n",
       "    .dataframe tbody tr th {\n",
       "        vertical-align: top;\n",
       "    }\n",
       "\n",
       "    .dataframe thead th {\n",
       "        text-align: right;\n",
       "    }\n",
       "</style>\n",
       "<table border=\"1\" class=\"dataframe\">\n",
       "  <thead>\n",
       "    <tr style=\"text-align: right;\">\n",
       "      <th></th>\n",
       "      <th>fid18</th>\n",
       "      <th>fid16</th>\n",
       "      <th>fid14</th>\n",
       "      <th>fid12</th>\n",
       "      <th>fid10</th>\n",
       "      <th>provcd18</th>\n",
       "      <th>countyid18</th>\n",
       "      <th>cid18</th>\n",
       "      <th>urban18</th>\n",
       "      <th>iwmode</th>\n",
       "      <th>...</th>\n",
       "      <th>psu</th>\n",
       "      <th>fswt_natcs18n</th>\n",
       "      <th>interrupt</th>\n",
       "      <th>interviewerid18</th>\n",
       "      <th>releaseversion</th>\n",
       "      <th>elderly_asset</th>\n",
       "      <th>asset_segment</th>\n",
       "      <th>split_pension</th>\n",
       "      <th>child_num_x</th>\n",
       "      <th>child_num_y</th>\n",
       "    </tr>\n",
       "  </thead>\n",
       "  <tbody>\n",
       "    <tr>\n",
       "      <th>0</th>\n",
       "      <td>100051.0</td>\n",
       "      <td>100051.0</td>\n",
       "      <td>100051.0</td>\n",
       "      <td>110043.0</td>\n",
       "      <td>110043.0</td>\n",
       "      <td>11.0</td>\n",
       "      <td>45.0</td>\n",
       "      <td>624942.0</td>\n",
       "      <td>1.0</td>\n",
       "      <td>2.0</td>\n",
       "      <td>...</td>\n",
       "      <td>45.0</td>\n",
       "      <td>1.181271</td>\n",
       "      <td>NaN</td>\n",
       "      <td>761040.0</td>\n",
       "      <td>2.2</td>\n",
       "      <td>0.0</td>\n",
       "      <td>0-3000</td>\n",
       "      <td>0-3000</td>\n",
       "      <td>NaN</td>\n",
       "      <td>1</td>\n",
       "    </tr>\n",
       "    <tr>\n",
       "      <th>1</th>\n",
       "      <td>100051.0</td>\n",
       "      <td>100051.0</td>\n",
       "      <td>100051.0</td>\n",
       "      <td>110043.0</td>\n",
       "      <td>110043.0</td>\n",
       "      <td>11.0</td>\n",
       "      <td>45.0</td>\n",
       "      <td>624942.0</td>\n",
       "      <td>1.0</td>\n",
       "      <td>2.0</td>\n",
       "      <td>...</td>\n",
       "      <td>45.0</td>\n",
       "      <td>1.181271</td>\n",
       "      <td>NaN</td>\n",
       "      <td>761040.0</td>\n",
       "      <td>2.2</td>\n",
       "      <td>0.0</td>\n",
       "      <td>0-3000</td>\n",
       "      <td>0-3000</td>\n",
       "      <td>NaN</td>\n",
       "      <td>0</td>\n",
       "    </tr>\n",
       "    <tr>\n",
       "      <th>2</th>\n",
       "      <td>100051.0</td>\n",
       "      <td>100051.0</td>\n",
       "      <td>100051.0</td>\n",
       "      <td>110043.0</td>\n",
       "      <td>110043.0</td>\n",
       "      <td>11.0</td>\n",
       "      <td>45.0</td>\n",
       "      <td>624942.0</td>\n",
       "      <td>1.0</td>\n",
       "      <td>2.0</td>\n",
       "      <td>...</td>\n",
       "      <td>45.0</td>\n",
       "      <td>1.181271</td>\n",
       "      <td>NaN</td>\n",
       "      <td>761040.0</td>\n",
       "      <td>2.2</td>\n",
       "      <td>0.0</td>\n",
       "      <td>0-3000</td>\n",
       "      <td>0-3000</td>\n",
       "      <td>NaN</td>\n",
       "      <td>1</td>\n",
       "    </tr>\n",
       "    <tr>\n",
       "      <th>3</th>\n",
       "      <td>100160.0</td>\n",
       "      <td>100160.0</td>\n",
       "      <td>100160.0</td>\n",
       "      <td>120009.0</td>\n",
       "      <td>120009.0</td>\n",
       "      <td>12.0</td>\n",
       "      <td>79.0</td>\n",
       "      <td>NaN</td>\n",
       "      <td>1.0</td>\n",
       "      <td>1.0</td>\n",
       "      <td>...</td>\n",
       "      <td>79.0</td>\n",
       "      <td>2.306826</td>\n",
       "      <td>NaN</td>\n",
       "      <td>459505.0</td>\n",
       "      <td>2.2</td>\n",
       "      <td>10000.0</td>\n",
       "      <td>7001-10000</td>\n",
       "      <td>0-3000</td>\n",
       "      <td>NaN</td>\n",
       "      <td>0</td>\n",
       "    </tr>\n",
       "    <tr>\n",
       "      <th>4</th>\n",
       "      <td>100160.0</td>\n",
       "      <td>100160.0</td>\n",
       "      <td>100160.0</td>\n",
       "      <td>120009.0</td>\n",
       "      <td>120009.0</td>\n",
       "      <td>12.0</td>\n",
       "      <td>79.0</td>\n",
       "      <td>NaN</td>\n",
       "      <td>1.0</td>\n",
       "      <td>1.0</td>\n",
       "      <td>...</td>\n",
       "      <td>79.0</td>\n",
       "      <td>2.306826</td>\n",
       "      <td>NaN</td>\n",
       "      <td>459505.0</td>\n",
       "      <td>2.2</td>\n",
       "      <td>10000.0</td>\n",
       "      <td>7001-10000</td>\n",
       "      <td>0-3000</td>\n",
       "      <td>NaN</td>\n",
       "      <td>0</td>\n",
       "    </tr>\n",
       "    <tr>\n",
       "      <th>...</th>\n",
       "      <td>...</td>\n",
       "      <td>...</td>\n",
       "      <td>...</td>\n",
       "      <td>...</td>\n",
       "      <td>...</td>\n",
       "      <td>...</td>\n",
       "      <td>...</td>\n",
       "      <td>...</td>\n",
       "      <td>...</td>\n",
       "      <td>...</td>\n",
       "      <td>...</td>\n",
       "      <td>...</td>\n",
       "      <td>...</td>\n",
       "      <td>...</td>\n",
       "      <td>...</td>\n",
       "      <td>...</td>\n",
       "      <td>...</td>\n",
       "      <td>...</td>\n",
       "      <td>...</td>\n",
       "      <td>...</td>\n",
       "      <td>...</td>\n",
       "    </tr>\n",
       "    <tr>\n",
       "      <th>53187</th>\n",
       "      <td>6646971.0</td>\n",
       "      <td>621344.0</td>\n",
       "      <td>621344.0</td>\n",
       "      <td>621344.0</td>\n",
       "      <td>621344.0</td>\n",
       "      <td>62.0</td>\n",
       "      <td>140.0</td>\n",
       "      <td>796912.0</td>\n",
       "      <td>1.0</td>\n",
       "      <td>2.0</td>\n",
       "      <td>...</td>\n",
       "      <td>155.0</td>\n",
       "      <td>0.129904</td>\n",
       "      <td>NaN</td>\n",
       "      <td>428499.0</td>\n",
       "      <td>2.2</td>\n",
       "      <td>0.0</td>\n",
       "      <td>0-3000</td>\n",
       "      <td>0-3000</td>\n",
       "      <td>NaN</td>\n",
       "      <td>2</td>\n",
       "    </tr>\n",
       "    <tr>\n",
       "      <th>53188</th>\n",
       "      <td>6694541.0</td>\n",
       "      <td>211229.0</td>\n",
       "      <td>211229.0</td>\n",
       "      <td>211229.0</td>\n",
       "      <td>211229.0</td>\n",
       "      <td>15.0</td>\n",
       "      <td>592.0</td>\n",
       "      <td>NaN</td>\n",
       "      <td>-9.0</td>\n",
       "      <td>2.0</td>\n",
       "      <td>...</td>\n",
       "      <td>171.0</td>\n",
       "      <td>0.265240</td>\n",
       "      <td>NaN</td>\n",
       "      <td>843997.0</td>\n",
       "      <td>2.2</td>\n",
       "      <td>0.0</td>\n",
       "      <td>0-3000</td>\n",
       "      <td>0-3000</td>\n",
       "      <td>NaN</td>\n",
       "      <td>0</td>\n",
       "    </tr>\n",
       "    <tr>\n",
       "      <th>53189</th>\n",
       "      <td>6704011.0</td>\n",
       "      <td>220306.0</td>\n",
       "      <td>220306.0</td>\n",
       "      <td>220306.0</td>\n",
       "      <td>220306.0</td>\n",
       "      <td>22.0</td>\n",
       "      <td>59.0</td>\n",
       "      <td>123900.0</td>\n",
       "      <td>1.0</td>\n",
       "      <td>2.0</td>\n",
       "      <td>...</td>\n",
       "      <td>59.0</td>\n",
       "      <td>1.235392</td>\n",
       "      <td>NaN</td>\n",
       "      <td>225081.0</td>\n",
       "      <td>2.2</td>\n",
       "      <td>0.0</td>\n",
       "      <td>0-3000</td>\n",
       "      <td>0-3000</td>\n",
       "      <td>NaN</td>\n",
       "      <td>0</td>\n",
       "    </tr>\n",
       "    <tr>\n",
       "      <th>53190</th>\n",
       "      <td>6759191.0</td>\n",
       "      <td>410650.0</td>\n",
       "      <td>410650.0</td>\n",
       "      <td>410650.0</td>\n",
       "      <td>410650.0</td>\n",
       "      <td>41.0</td>\n",
       "      <td>105.0</td>\n",
       "      <td>442281.0</td>\n",
       "      <td>1.0</td>\n",
       "      <td>1.0</td>\n",
       "      <td>...</td>\n",
       "      <td>119.0</td>\n",
       "      <td>1.385950</td>\n",
       "      <td>NaN</td>\n",
       "      <td>594704.0</td>\n",
       "      <td>2.2</td>\n",
       "      <td>0.0</td>\n",
       "      <td>0-3000</td>\n",
       "      <td>0-3000</td>\n",
       "      <td>NaN</td>\n",
       "      <td>0</td>\n",
       "    </tr>\n",
       "    <tr>\n",
       "      <th>53191</th>\n",
       "      <td>6759191.0</td>\n",
       "      <td>410650.0</td>\n",
       "      <td>410650.0</td>\n",
       "      <td>410650.0</td>\n",
       "      <td>410650.0</td>\n",
       "      <td>41.0</td>\n",
       "      <td>105.0</td>\n",
       "      <td>442281.0</td>\n",
       "      <td>1.0</td>\n",
       "      <td>1.0</td>\n",
       "      <td>...</td>\n",
       "      <td>119.0</td>\n",
       "      <td>1.385950</td>\n",
       "      <td>NaN</td>\n",
       "      <td>594704.0</td>\n",
       "      <td>2.2</td>\n",
       "      <td>0.0</td>\n",
       "      <td>0-3000</td>\n",
       "      <td>0-3000</td>\n",
       "      <td>NaN</td>\n",
       "      <td>0</td>\n",
       "    </tr>\n",
       "  </tbody>\n",
       "</table>\n",
       "<p>53192 rows × 326 columns</p>\n",
       "</div>"
      ],
      "text/plain": [
       "           fid18     fid16     fid14     fid12     fid10  provcd18  \\\n",
       "0       100051.0  100051.0  100051.0  110043.0  110043.0      11.0   \n",
       "1       100051.0  100051.0  100051.0  110043.0  110043.0      11.0   \n",
       "2       100051.0  100051.0  100051.0  110043.0  110043.0      11.0   \n",
       "3       100160.0  100160.0  100160.0  120009.0  120009.0      12.0   \n",
       "4       100160.0  100160.0  100160.0  120009.0  120009.0      12.0   \n",
       "...          ...       ...       ...       ...       ...       ...   \n",
       "53187  6646971.0  621344.0  621344.0  621344.0  621344.0      62.0   \n",
       "53188  6694541.0  211229.0  211229.0  211229.0  211229.0      15.0   \n",
       "53189  6704011.0  220306.0  220306.0  220306.0  220306.0      22.0   \n",
       "53190  6759191.0  410650.0  410650.0  410650.0  410650.0      41.0   \n",
       "53191  6759191.0  410650.0  410650.0  410650.0  410650.0      41.0   \n",
       "\n",
       "       countyid18     cid18  urban18  iwmode  ...    psu  fswt_natcs18n  \\\n",
       "0            45.0  624942.0      1.0     2.0  ...   45.0       1.181271   \n",
       "1            45.0  624942.0      1.0     2.0  ...   45.0       1.181271   \n",
       "2            45.0  624942.0      1.0     2.0  ...   45.0       1.181271   \n",
       "3            79.0       NaN      1.0     1.0  ...   79.0       2.306826   \n",
       "4            79.0       NaN      1.0     1.0  ...   79.0       2.306826   \n",
       "...           ...       ...      ...     ...  ...    ...            ...   \n",
       "53187       140.0  796912.0      1.0     2.0  ...  155.0       0.129904   \n",
       "53188       592.0       NaN     -9.0     2.0  ...  171.0       0.265240   \n",
       "53189        59.0  123900.0      1.0     2.0  ...   59.0       1.235392   \n",
       "53190       105.0  442281.0      1.0     1.0  ...  119.0       1.385950   \n",
       "53191       105.0  442281.0      1.0     1.0  ...  119.0       1.385950   \n",
       "\n",
       "       interrupt  interviewerid18  releaseversion  elderly_asset  \\\n",
       "0            NaN         761040.0             2.2            0.0   \n",
       "1            NaN         761040.0             2.2            0.0   \n",
       "2            NaN         761040.0             2.2            0.0   \n",
       "3            NaN         459505.0             2.2        10000.0   \n",
       "4            NaN         459505.0             2.2        10000.0   \n",
       "...          ...              ...             ...            ...   \n",
       "53187        NaN         428499.0             2.2            0.0   \n",
       "53188        NaN         843997.0             2.2            0.0   \n",
       "53189        NaN         225081.0             2.2            0.0   \n",
       "53190        NaN         594704.0             2.2            0.0   \n",
       "53191        NaN         594704.0             2.2            0.0   \n",
       "\n",
       "       asset_segment  split_pension  child_num_x  child_num_y  \n",
       "0             0-3000         0-3000          NaN            1  \n",
       "1             0-3000         0-3000          NaN            0  \n",
       "2             0-3000         0-3000          NaN            1  \n",
       "3         7001-10000         0-3000          NaN            0  \n",
       "4         7001-10000         0-3000          NaN            0  \n",
       "...              ...            ...          ...          ...  \n",
       "53187         0-3000         0-3000          NaN            2  \n",
       "53188         0-3000         0-3000          NaN            0  \n",
       "53189         0-3000         0-3000          NaN            0  \n",
       "53190         0-3000         0-3000          NaN            0  \n",
       "53191         0-3000         0-3000          NaN            0  \n",
       "\n",
       "[53192 rows x 326 columns]"
      ]
     },
     "execution_count": 90,
     "metadata": {},
     "output_type": "execute_result"
    }
   ],
   "source": [
    "#表的连接\n",
    "merge3=pd.merge(left=famecon,right=famconf[['child_num','fid18']],on='fid18')\n",
    "merge3"
   ]
  },
  {
   "cell_type": "code",
   "execution_count": null,
   "id": "a7ca9f90",
   "metadata": {},
   "outputs": [],
   "source": [
    "#然后在资产表中查询老年人，因为fid18都是相同的。把子女数量相同的老年人进行聚合\n",
    "# grouped3=merge3[['elderly_asset','fn301','fn4','fn5']].groupby(by=merge3['child_num_y']).agg([('mean_asset', np.mean),('mean_pension',np.mean),('mean_from_children',np.mean),('mean_from_relative',np.mean),('mean_from_others',np.mean)])\n",
    "# grouped3.reset_index(inplace=True)"
   ]
  },
  {
   "cell_type": "code",
   "execution_count": 92,
   "id": "1dce8802",
   "metadata": {},
   "outputs": [
    {
     "data": {
      "text/html": [
       "<div>\n",
       "<style scoped>\n",
       "    .dataframe tbody tr th:only-of-type {\n",
       "        vertical-align: middle;\n",
       "    }\n",
       "\n",
       "    .dataframe tbody tr th {\n",
       "        vertical-align: top;\n",
       "    }\n",
       "\n",
       "    .dataframe thead th {\n",
       "        text-align: right;\n",
       "    }\n",
       "</style>\n",
       "<table border=\"1\" class=\"dataframe\">\n",
       "  <thead>\n",
       "    <tr style=\"text-align: right;\">\n",
       "      <th></th>\n",
       "      <th>child_num_y</th>\n",
       "      <th>elderly_asset</th>\n",
       "      <th>fn301</th>\n",
       "      <th>fn401</th>\n",
       "      <th>fn4</th>\n",
       "      <th>fn5</th>\n",
       "    </tr>\n",
       "  </thead>\n",
       "  <tbody>\n",
       "    <tr>\n",
       "      <th>0</th>\n",
       "      <td>0</td>\n",
       "      <td>7566.160727</td>\n",
       "      <td>6004.009922</td>\n",
       "      <td>1155.071273</td>\n",
       "      <td>1501.268883</td>\n",
       "      <td>124.953818</td>\n",
       "    </tr>\n",
       "    <tr>\n",
       "      <th>1</th>\n",
       "      <td>1</td>\n",
       "      <td>14155.451963</td>\n",
       "      <td>12851.490857</td>\n",
       "      <td>988.719275</td>\n",
       "      <td>1286.359338</td>\n",
       "      <td>87.792341</td>\n",
       "    </tr>\n",
       "    <tr>\n",
       "      <th>2</th>\n",
       "      <td>2</td>\n",
       "      <td>8215.527563</td>\n",
       "      <td>7009.904309</td>\n",
       "      <td>1349.239153</td>\n",
       "      <td>824.249183</td>\n",
       "      <td>122.703715</td>\n",
       "    </tr>\n",
       "    <tr>\n",
       "      <th>3</th>\n",
       "      <td>3</td>\n",
       "      <td>8196.306713</td>\n",
       "      <td>6837.010970</td>\n",
       "      <td>1872.864414</td>\n",
       "      <td>388.746161</td>\n",
       "      <td>52.979158</td>\n",
       "    </tr>\n",
       "    <tr>\n",
       "      <th>4</th>\n",
       "      <td>4</td>\n",
       "      <td>9349.687777</td>\n",
       "      <td>7556.718176</td>\n",
       "      <td>2107.613046</td>\n",
       "      <td>374.069031</td>\n",
       "      <td>76.212793</td>\n",
       "    </tr>\n",
       "    <tr>\n",
       "      <th>5</th>\n",
       "      <td>5</td>\n",
       "      <td>9864.290323</td>\n",
       "      <td>8382.088710</td>\n",
       "      <td>2010.470968</td>\n",
       "      <td>131.533871</td>\n",
       "      <td>48.588710</td>\n",
       "    </tr>\n",
       "    <tr>\n",
       "      <th>6</th>\n",
       "      <td>6</td>\n",
       "      <td>7407.745968</td>\n",
       "      <td>4815.137097</td>\n",
       "      <td>2976.798387</td>\n",
       "      <td>258.096774</td>\n",
       "      <td>170.625000</td>\n",
       "    </tr>\n",
       "    <tr>\n",
       "      <th>7</th>\n",
       "      <td>7</td>\n",
       "      <td>5766.546218</td>\n",
       "      <td>3431.428571</td>\n",
       "      <td>2258.075630</td>\n",
       "      <td>687.899160</td>\n",
       "      <td>175.714286</td>\n",
       "    </tr>\n",
       "    <tr>\n",
       "      <th>8</th>\n",
       "      <td>8</td>\n",
       "      <td>10866.285714</td>\n",
       "      <td>9083.428571</td>\n",
       "      <td>1928.571429</td>\n",
       "      <td>497.142857</td>\n",
       "      <td>0.000000</td>\n",
       "    </tr>\n",
       "  </tbody>\n",
       "</table>\n",
       "</div>"
      ],
      "text/plain": [
       "   child_num_y  elderly_asset         fn301        fn401          fn4  \\\n",
       "0            0    7566.160727   6004.009922  1155.071273  1501.268883   \n",
       "1            1   14155.451963  12851.490857   988.719275  1286.359338   \n",
       "2            2    8215.527563   7009.904309  1349.239153   824.249183   \n",
       "3            3    8196.306713   6837.010970  1872.864414   388.746161   \n",
       "4            4    9349.687777   7556.718176  2107.613046   374.069031   \n",
       "5            5    9864.290323   8382.088710  2010.470968   131.533871   \n",
       "6            6    7407.745968   4815.137097  2976.798387   258.096774   \n",
       "7            7    5766.546218   3431.428571  2258.075630   687.899160   \n",
       "8            8   10866.285714   9083.428571  1928.571429   497.142857   \n",
       "\n",
       "          fn5  \n",
       "0  124.953818  \n",
       "1   87.792341  \n",
       "2  122.703715  \n",
       "3   52.979158  \n",
       "4   76.212793  \n",
       "5   48.588710  \n",
       "6  170.625000  \n",
       "7  175.714286  \n",
       "8    0.000000  "
      ]
     },
     "execution_count": 92,
     "metadata": {},
     "output_type": "execute_result"
    }
   ],
   "source": [
    "#聚合操作遇到问题，最终选择在拼接后直接查询\n",
    "grouped3=merge3[['elderly_asset','fn301','fn401','fn4','fn5']].groupby(by=merge3['child_num_y']).mean()\n",
    "grouped3.reset_index(inplace=True)\n",
    "grouped3"
   ]
  },
  {
   "cell_type": "code",
   "execution_count": 93,
   "id": "067aaff9",
   "metadata": {},
   "outputs": [
    {
     "data": {
      "text/plain": [
       "<Figure size 1452.96x720 with 0 Axes>"
      ]
     },
     "execution_count": 93,
     "metadata": {},
     "output_type": "execute_result"
    },
    {
     "data": {
      "text/plain": [
       "<BarContainer object of 9 artists>"
      ]
     },
     "execution_count": 93,
     "metadata": {},
     "output_type": "execute_result"
    },
    {
     "data": {
      "text/plain": [
       "Text(0.5, 1.0, '不同子女数量的平均资产')"
      ]
     },
     "execution_count": 93,
     "metadata": {},
     "output_type": "execute_result"
    },
    {
     "data": {
      "text/plain": [
       "Text(0, 7569.160727272727, '7566.2')"
      ]
     },
     "execution_count": 93,
     "metadata": {},
     "output_type": "execute_result"
    },
    {
     "data": {
      "text/plain": [
       "Text(1, 14158.451963429257, '14155.5')"
      ]
     },
     "execution_count": 93,
     "metadata": {},
     "output_type": "execute_result"
    },
    {
     "data": {
      "text/plain": [
       "Text(2, 8218.527563150074, '8215.5')"
      ]
     },
     "execution_count": 93,
     "metadata": {},
     "output_type": "execute_result"
    },
    {
     "data": {
      "text/plain": [
       "Text(3, 8199.30671347082, '8196.3')"
      ]
     },
     "execution_count": 93,
     "metadata": {},
     "output_type": "execute_result"
    },
    {
     "data": {
      "text/plain": [
       "Text(4, 9352.687777074098, '9349.7')"
      ]
     },
     "execution_count": 93,
     "metadata": {},
     "output_type": "execute_result"
    },
    {
     "data": {
      "text/plain": [
       "Text(5, 9867.290322580646, '9864.3')"
      ]
     },
     "execution_count": 93,
     "metadata": {},
     "output_type": "execute_result"
    },
    {
     "data": {
      "text/plain": [
       "Text(6, 7410.745967741936, '7407.7')"
      ]
     },
     "execution_count": 93,
     "metadata": {},
     "output_type": "execute_result"
    },
    {
     "data": {
      "text/plain": [
       "Text(7, 5769.546218487395, '5766.5')"
      ]
     },
     "execution_count": 93,
     "metadata": {},
     "output_type": "execute_result"
    },
    {
     "data": {
      "text/plain": [
       "Text(8, 10869.285714285714, '10866.3')"
      ]
     },
     "execution_count": 93,
     "metadata": {},
     "output_type": "execute_result"
    },
    {
     "data": {
      "text/plain": [
       "Text(0.5, 0, '子女数(个)')"
      ]
     },
     "execution_count": 93,
     "metadata": {},
     "output_type": "execute_result"
    },
    {
     "data": {
      "text/plain": [
       "Text(0, 0.5, '总资产(RMB)')"
      ]
     },
     "execution_count": 93,
     "metadata": {},
     "output_type": "execute_result"
    },
    {
     "data": {
      "text/plain": [
       "([<matplotlib.axis.XTick at 0x245e2974908>,\n",
       "  <matplotlib.axis.XTick at 0x245e296a488>,\n",
       "  <matplotlib.axis.XTick at 0x245e27c0488>,\n",
       "  <matplotlib.axis.XTick at 0x245e2a0d7c8>,\n",
       "  <matplotlib.axis.XTick at 0x245e2a1ba48>,\n",
       "  <matplotlib.axis.XTick at 0x245e2a2b3c8>,\n",
       "  <matplotlib.axis.XTick at 0x245e2a3a208>,\n",
       "  <matplotlib.axis.XTick at 0x245e2a48148>,\n",
       "  <matplotlib.axis.XTick at 0x245e2a56148>],\n",
       " [Text(0, 0, ''),\n",
       "  Text(0, 0, ''),\n",
       "  Text(0, 0, ''),\n",
       "  Text(0, 0, ''),\n",
       "  Text(0, 0, ''),\n",
       "  Text(0, 0, ''),\n",
       "  Text(0, 0, ''),\n",
       "  Text(0, 0, ''),\n",
       "  Text(0, 0, '')])"
      ]
     },
     "execution_count": 93,
     "metadata": {},
     "output_type": "execute_result"
    },
    {
     "data": {
      "image/png": "[encoded data removed]",
      "text/plain": [
       "<Figure size 1452.96x720 with 1 Axes>"
      ]
     },
     "metadata": {},
     "output_type": "display_data"
    }
   ],
   "source": [
    "plt.figure(figsize=(20.18,10))\n",
    "plt.bar(grouped3.child_num_y,grouped3.elderly_asset\n",
    "        ,color=['#8B0000','#F0E68C','#7FFFD4','#A52A2A','#FF7F50','#00FFFF','#FF8C00','#696969','#FFD700']\n",
    "       )\n",
    "plt.title('不同子女数量的平均资产',size=30)\n",
    "#显示一下具体的数字\n",
    "for x,y in enumerate(grouped3.elderly_asset):\n",
    "    plt.text(x,y+3,\"%s\"%round(y,1),ha='center',size=20)\n",
    "#设置坐标刻度值的大小\n",
    "plt.tick_params(labelsize=17)\n",
    "plt.xlabel(\"子女数(个)\",size=30)\n",
    "plt.ylabel(\"总资产(RMB)\",size=30)\n",
    "#下面这行为了解决坐标显示不全的问题\n",
    "plt.xticks(list(range(0,9,1)))\n",
    "plt.show()"
   ]
  },
  {
   "cell_type": "code",
   "execution_count": 95,
   "id": "5dbb28cb",
   "metadata": {},
   "outputs": [
    {
     "data": {
      "text/plain": [
       "'下面这个有些许瑕疵，因为后几项之和，不能和那个总资产相等\\n原因大概是简单求平均造成的，但对于研究规律是够用的\\n'"
      ]
     },
     "execution_count": 95,
     "metadata": {},
     "output_type": "execute_result"
    }
   ],
   "source": [
    "'''下面这个有些许瑕疵，因为后几项之和，不能和那个总资产完全相等\n",
    "原因大概是简单求平均造成的，但对于研究规律是够用的\n",
    "'''"
   ]
  },
  {
   "cell_type": "code",
   "execution_count": 113,
   "id": "6bd17414",
   "metadata": {},
   "outputs": [
    {
     "data": {
      "text/plain": [
       "<Figure size 1452.96x1080 with 0 Axes>"
      ]
     },
     "execution_count": 113,
     "metadata": {},
     "output_type": "execute_result"
    },
    {
     "data": {
      "text/plain": [
       "<BarContainer object of 9 artists>"
      ]
     },
     "execution_count": 113,
     "metadata": {},
     "output_type": "execute_result"
    },
    {
     "data": {
      "text/plain": [
       "<BarContainer object of 9 artists>"
      ]
     },
     "execution_count": 113,
     "metadata": {},
     "output_type": "execute_result"
    },
    {
     "data": {
      "text/plain": [
       "<BarContainer object of 9 artists>"
      ]
     },
     "execution_count": 113,
     "metadata": {},
     "output_type": "execute_result"
    },
    {
     "data": {
      "text/plain": [
       "<BarContainer object of 9 artists>"
      ]
     },
     "execution_count": 113,
     "metadata": {},
     "output_type": "execute_result"
    },
    {
     "data": {
      "text/plain": [
       "Text(0, 0.5, '老年人的资产分布情况(RMB)')"
      ]
     },
     "execution_count": 113,
     "metadata": {},
     "output_type": "execute_result"
    },
    {
     "data": {
      "text/plain": [
       "Text(0.5, 0, '子女个数(个)')"
      ]
     },
     "execution_count": 113,
     "metadata": {},
     "output_type": "execute_result"
    },
    {
     "data": {
      "text/plain": [
       "<matplotlib.legend.Legend at 0x245ec437d08>"
      ]
     },
     "execution_count": 113,
     "metadata": {},
     "output_type": "execute_result"
    },
    {
     "data": {
      "image/png": "[encoded data removed]",
      "text/plain": [
       "<Figure size 1452.96x1080 with 1 Axes>"
      ]
     },
     "metadata": {},
     "output_type": "display_data"
    }
   ],
   "source": [
    "#plt中无法直接画堆叠条形图，只能重复画条形图，然后调整好y的值，合并在一张图上\n",
    "#取出子女数量作为x轴的标签\n",
    "child_num=grouped3.child_num_y\n",
    "#然后分别取出各项资产内容，得到多个dataframe，以及分别重新设置x轴索引\n",
    "fn301=grouped3.fn301\n",
    "fn301.index=range(len(child_num))\n",
    "fn401=grouped3.fn401\n",
    "fn401.index=range(len(child_num))\n",
    "fn4=grouped3.fn4\n",
    "fn4.index=range(len(child_num))\n",
    "fn5=grouped3.fn5\n",
    "fn5.index=range(len(child_num))\n",
    "\n",
    "plt.figure(figsize=(20.18,15))\n",
    "#接下来画堆叠条形图\n",
    "plt.bar(x=range(len(child_num)),height=fn301,color='#8B0000',label=\"养老金&退休金\",tick_label=child_num)\n",
    "plt.bar(x=range(len(child_num)),height=fn401,color='#FFD700',bottom=fn301,label=\"子女给的钱\",tick_label=child_num)\n",
    "plt.bar(x=range(len(child_num)),height=fn4,color='#FF7F50',bottom=fn401+fn301,label=\"亲戚给的钱\",tick_label=child_num)\n",
    "plt.bar(x=range(len(child_num)),height=fn5,color='black',bottom=fn4+fn401+fn301,label=\"其他人给的钱\",tick_label=child_num)\n",
    "plt.ylabel(\"老年人的资产分布情况(RMB)\",size=20)\n",
    "plt.xlabel(\"子女个数(个)\",size=20)\n",
    "plt.legend(loc = 'best')\n",
    "plt.tick_params(labelsize=17)\n",
    "plt.show()\n",
    "\n",
    "#很遗憾legend的字体没有调整，比较小。"
   ]
  },
  {
   "cell_type": "markdown",
   "id": "5d78fe73",
   "metadata": {},
   "source": [
    "### 至此子女数维度分析完毕"
   ]
  },
  {
   "cell_type": "code",
   "execution_count": null,
   "id": "20da9039",
   "metadata": {},
   "outputs": [],
   "source": []
  },
  {
   "cell_type": "code",
   "execution_count": null,
   "id": "477775fd",
   "metadata": {},
   "outputs": [],
   "source": []
  },
  {
   "cell_type": "markdown",
   "id": "356237e7",
   "metadata": {},
   "source": [
    "## 统计家庭成员有身故、病重、意外"
   ]
  },
  {
   "cell_type": "markdown",
   "id": "ea739451",
   "metadata": {},
   "source": [
    "- 跨年库\n",
    "    - alive18：18年是否存活；\n",
    "    - deathcause_code：死亡原因；\n",
    "- 个人库\n",
    "    - qp303：是否病重"
   ]
  },
  {
   "cell_type": "code",
   "execution_count": 46,
   "id": "e24c8b03",
   "metadata": {},
   "outputs": [
    {
     "name": "stdout",
     "output_type": "stream",
     "text": [
      " 1.0    57781\n",
      "-8.0    15448\n",
      " 0.0      901\n",
      "Name: alive18, dtype: int64\n"
     ]
    },
    {
     "data": {
      "text/html": [
       "<div>\n",
       "<style scoped>\n",
       "    .dataframe tbody tr th:only-of-type {\n",
       "        vertical-align: middle;\n",
       "    }\n",
       "\n",
       "    .dataframe tbody tr th {\n",
       "        vertical-align: top;\n",
       "    }\n",
       "\n",
       "    .dataframe thead th {\n",
       "        text-align: right;\n",
       "    }\n",
       "</style>\n",
       "<table border=\"1\" class=\"dataframe\">\n",
       "  <thead>\n",
       "    <tr style=\"text-align: right;\">\n",
       "      <th></th>\n",
       "      <th>pid</th>\n",
       "      <th>birthy</th>\n",
       "      <th>gender</th>\n",
       "      <th>ethnicity</th>\n",
       "      <th>entrayear</th>\n",
       "      <th>fidbaseline</th>\n",
       "      <th>psu</th>\n",
       "      <th>subsample</th>\n",
       "      <th>subpopulation</th>\n",
       "      <th>fid10</th>\n",
       "      <th>...</th>\n",
       "      <th>cfps2018sch</th>\n",
       "      <th>cfps2018eduy</th>\n",
       "      <th>cfps2018eduy_im</th>\n",
       "      <th>urban18</th>\n",
       "      <th>hk18</th>\n",
       "      <th>employ18</th>\n",
       "      <th>genetype18</th>\n",
       "      <th>coremember18</th>\n",
       "      <th>alive18</th>\n",
       "      <th>releaseversion</th>\n",
       "    </tr>\n",
       "  </thead>\n",
       "  <tbody>\n",
       "    <tr>\n",
       "      <th>290</th>\n",
       "      <td>110060581.0</td>\n",
       "      <td>1912.0</td>\n",
       "      <td>0.0</td>\n",
       "      <td>3.0</td>\n",
       "      <td>2016.0</td>\n",
       "      <td>110060.0</td>\n",
       "      <td>45.0</td>\n",
       "      <td>1.0</td>\n",
       "      <td>6.0</td>\n",
       "      <td>-8.0</td>\n",
       "      <td>...</td>\n",
       "      <td>-9.0</td>\n",
       "      <td>-9.0</td>\n",
       "      <td>-9.0</td>\n",
       "      <td>-8.0</td>\n",
       "      <td>3.0</td>\n",
       "      <td>-8.0</td>\n",
       "      <td>0.0</td>\n",
       "      <td>1.0</td>\n",
       "      <td>0.0</td>\n",
       "      <td>2018.1</td>\n",
       "    </tr>\n",
       "    <tr>\n",
       "      <th>328</th>\n",
       "      <td>110074101.0</td>\n",
       "      <td>1948.0</td>\n",
       "      <td>1.0</td>\n",
       "      <td>1.0</td>\n",
       "      <td>2010.0</td>\n",
       "      <td>110074.0</td>\n",
       "      <td>45.0</td>\n",
       "      <td>1.0</td>\n",
       "      <td>6.0</td>\n",
       "      <td>110074.0</td>\n",
       "      <td>...</td>\n",
       "      <td>-9.0</td>\n",
       "      <td>-9.0</td>\n",
       "      <td>-9.0</td>\n",
       "      <td>-8.0</td>\n",
       "      <td>-8.0</td>\n",
       "      <td>-8.0</td>\n",
       "      <td>7.0</td>\n",
       "      <td>-8.0</td>\n",
       "      <td>0.0</td>\n",
       "      <td>2018.1</td>\n",
       "    </tr>\n",
       "    <tr>\n",
       "      <th>366</th>\n",
       "      <td>110092102.0</td>\n",
       "      <td>1938.0</td>\n",
       "      <td>0.0</td>\n",
       "      <td>1.0</td>\n",
       "      <td>2010.0</td>\n",
       "      <td>110092.0</td>\n",
       "      <td>45.0</td>\n",
       "      <td>1.0</td>\n",
       "      <td>6.0</td>\n",
       "      <td>110092.0</td>\n",
       "      <td>...</td>\n",
       "      <td>-9.0</td>\n",
       "      <td>-9.0</td>\n",
       "      <td>-9.0</td>\n",
       "      <td>-8.0</td>\n",
       "      <td>-8.0</td>\n",
       "      <td>-8.0</td>\n",
       "      <td>7.0</td>\n",
       "      <td>-8.0</td>\n",
       "      <td>0.0</td>\n",
       "      <td>2018.1</td>\n",
       "    </tr>\n",
       "    <tr>\n",
       "      <th>416</th>\n",
       "      <td>110119581.0</td>\n",
       "      <td>1924.0</td>\n",
       "      <td>0.0</td>\n",
       "      <td>NaN</td>\n",
       "      <td>2016.0</td>\n",
       "      <td>110119.0</td>\n",
       "      <td>45.0</td>\n",
       "      <td>1.0</td>\n",
       "      <td>6.0</td>\n",
       "      <td>-8.0</td>\n",
       "      <td>...</td>\n",
       "      <td>1.0</td>\n",
       "      <td>0.0</td>\n",
       "      <td>0.0</td>\n",
       "      <td>-8.0</td>\n",
       "      <td>5.0</td>\n",
       "      <td>-8.0</td>\n",
       "      <td>0.0</td>\n",
       "      <td>0.0</td>\n",
       "      <td>0.0</td>\n",
       "      <td>2018.1</td>\n",
       "    </tr>\n",
       "    <tr>\n",
       "      <th>418</th>\n",
       "      <td>110120102.0</td>\n",
       "      <td>1959.0</td>\n",
       "      <td>1.0</td>\n",
       "      <td>1.0</td>\n",
       "      <td>2010.0</td>\n",
       "      <td>110120.0</td>\n",
       "      <td>45.0</td>\n",
       "      <td>1.0</td>\n",
       "      <td>6.0</td>\n",
       "      <td>110120.0</td>\n",
       "      <td>...</td>\n",
       "      <td>-9.0</td>\n",
       "      <td>-9.0</td>\n",
       "      <td>-9.0</td>\n",
       "      <td>-8.0</td>\n",
       "      <td>-8.0</td>\n",
       "      <td>-8.0</td>\n",
       "      <td>7.0</td>\n",
       "      <td>-8.0</td>\n",
       "      <td>0.0</td>\n",
       "      <td>2018.1</td>\n",
       "    </tr>\n",
       "  </tbody>\n",
       "</table>\n",
       "<p>5 rows × 95 columns</p>\n",
       "</div>"
      ],
      "text/plain": [
       "             pid  birthy  gender  ethnicity  entrayear  fidbaseline   psu  \\\n",
       "290  110060581.0  1912.0     0.0        3.0     2016.0     110060.0  45.0   \n",
       "328  110074101.0  1948.0     1.0        1.0     2010.0     110074.0  45.0   \n",
       "366  110092102.0  1938.0     0.0        1.0     2010.0     110092.0  45.0   \n",
       "416  110119581.0  1924.0     0.0        NaN     2016.0     110119.0  45.0   \n",
       "418  110120102.0  1959.0     1.0        1.0     2010.0     110120.0  45.0   \n",
       "\n",
       "     subsample  subpopulation     fid10  ...  cfps2018sch  cfps2018eduy  \\\n",
       "290        1.0            6.0      -8.0  ...         -9.0          -9.0   \n",
       "328        1.0            6.0  110074.0  ...         -9.0          -9.0   \n",
       "366        1.0            6.0  110092.0  ...         -9.0          -9.0   \n",
       "416        1.0            6.0      -8.0  ...          1.0           0.0   \n",
       "418        1.0            6.0  110120.0  ...         -9.0          -9.0   \n",
       "\n",
       "     cfps2018eduy_im  urban18  hk18  employ18  genetype18 coremember18  \\\n",
       "290             -9.0     -8.0   3.0      -8.0         0.0          1.0   \n",
       "328             -9.0     -8.0  -8.0      -8.0         7.0         -8.0   \n",
       "366             -9.0     -8.0  -8.0      -8.0         7.0         -8.0   \n",
       "416              0.0     -8.0   5.0      -8.0         0.0          0.0   \n",
       "418             -9.0     -8.0  -8.0      -8.0         7.0         -8.0   \n",
       "\n",
       "     alive18  releaseversion  \n",
       "290      0.0          2018.1  \n",
       "328      0.0          2018.1  \n",
       "366      0.0          2018.1  \n",
       "416      0.0          2018.1  \n",
       "418      0.0          2018.1  \n",
       "\n",
       "[5 rows x 95 columns]"
      ]
     },
     "execution_count": 46,
     "metadata": {},
     "output_type": "execute_result"
    },
    {
     "name": "stdout",
     "output_type": "stream",
     "text": [
      "-8.0    23630\n",
      " 3.0     4188\n",
      " 5.0     3646\n",
      " 1.0     1628\n",
      "-1.0        5\n",
      "Name: qp303, dtype: int64\n"
     ]
    },
    {
     "data": {
      "text/html": [
       "<div>\n",
       "<style scoped>\n",
       "    .dataframe tbody tr th:only-of-type {\n",
       "        vertical-align: middle;\n",
       "    }\n",
       "\n",
       "    .dataframe tbody tr th {\n",
       "        vertical-align: top;\n",
       "    }\n",
       "\n",
       "    .dataframe thead th {\n",
       "        text-align: right;\n",
       "    }\n",
       "</style>\n",
       "<table border=\"1\" class=\"dataframe\">\n",
       "  <thead>\n",
       "    <tr style=\"text-align: right;\">\n",
       "      <th></th>\n",
       "      <th>pid</th>\n",
       "      <th>birthy</th>\n",
       "      <th>gender</th>\n",
       "      <th>ethnicity</th>\n",
       "      <th>entrayear</th>\n",
       "      <th>fidbaseline</th>\n",
       "      <th>psu</th>\n",
       "      <th>subsample</th>\n",
       "      <th>subpopulation</th>\n",
       "      <th>fid10</th>\n",
       "      <th>...</th>\n",
       "      <th>cfps2018sch</th>\n",
       "      <th>cfps2018eduy</th>\n",
       "      <th>cfps2018eduy_im</th>\n",
       "      <th>urban18</th>\n",
       "      <th>hk18</th>\n",
       "      <th>employ18</th>\n",
       "      <th>genetype18</th>\n",
       "      <th>coremember18</th>\n",
       "      <th>alive18</th>\n",
       "      <th>releaseversion</th>\n",
       "    </tr>\n",
       "  </thead>\n",
       "  <tbody>\n",
       "    <tr>\n",
       "      <th>0</th>\n",
       "      <td>100051501.0</td>\n",
       "      <td>1969.0</td>\n",
       "      <td>0.0</td>\n",
       "      <td>1.0</td>\n",
       "      <td>2014.0</td>\n",
       "      <td>110043.0</td>\n",
       "      <td>45.0</td>\n",
       "      <td>1.0</td>\n",
       "      <td>6.0</td>\n",
       "      <td>-8.0</td>\n",
       "      <td>...</td>\n",
       "      <td>4.0</td>\n",
       "      <td>12.0</td>\n",
       "      <td>12.0</td>\n",
       "      <td>1.0</td>\n",
       "      <td>3.0</td>\n",
       "      <td>1.0</td>\n",
       "      <td>0.0</td>\n",
       "      <td>1.0</td>\n",
       "      <td>1.0</td>\n",
       "      <td>2018.1</td>\n",
       "    </tr>\n",
       "    <tr>\n",
       "      <th>1</th>\n",
       "      <td>100051502.0</td>\n",
       "      <td>1966.0</td>\n",
       "      <td>1.0</td>\n",
       "      <td>1.0</td>\n",
       "      <td>2014.0</td>\n",
       "      <td>110043.0</td>\n",
       "      <td>45.0</td>\n",
       "      <td>1.0</td>\n",
       "      <td>6.0</td>\n",
       "      <td>-8.0</td>\n",
       "      <td>...</td>\n",
       "      <td>4.0</td>\n",
       "      <td>12.0</td>\n",
       "      <td>12.0</td>\n",
       "      <td>1.0</td>\n",
       "      <td>3.0</td>\n",
       "      <td>1.0</td>\n",
       "      <td>0.0</td>\n",
       "      <td>1.0</td>\n",
       "      <td>1.0</td>\n",
       "      <td>2018.1</td>\n",
       "    </tr>\n",
       "    <tr>\n",
       "      <th>2</th>\n",
       "      <td>100160601.0</td>\n",
       "      <td>1989.0</td>\n",
       "      <td>1.0</td>\n",
       "      <td>1.0</td>\n",
       "      <td>2018.0</td>\n",
       "      <td>120009.0</td>\n",
       "      <td>79.0</td>\n",
       "      <td>1.0</td>\n",
       "      <td>6.0</td>\n",
       "      <td>-8.0</td>\n",
       "      <td>...</td>\n",
       "      <td>-9.0</td>\n",
       "      <td>-9.0</td>\n",
       "      <td>-9.0</td>\n",
       "      <td>1.0</td>\n",
       "      <td>3.0</td>\n",
       "      <td>1.0</td>\n",
       "      <td>0.0</td>\n",
       "      <td>1.0</td>\n",
       "      <td>1.0</td>\n",
       "      <td>2018.1</td>\n",
       "    </tr>\n",
       "    <tr>\n",
       "      <th>3</th>\n",
       "      <td>100376551.0</td>\n",
       "      <td>1997.0</td>\n",
       "      <td>0.0</td>\n",
       "      <td>NaN</td>\n",
       "      <td>2016.0</td>\n",
       "      <td>130094.0</td>\n",
       "      <td>47.0</td>\n",
       "      <td>1.0</td>\n",
       "      <td>6.0</td>\n",
       "      <td>-8.0</td>\n",
       "      <td>...</td>\n",
       "      <td>-9.0</td>\n",
       "      <td>-9.0</td>\n",
       "      <td>-9.0</td>\n",
       "      <td>0.0</td>\n",
       "      <td>1.0</td>\n",
       "      <td>3.0</td>\n",
       "      <td>0.0</td>\n",
       "      <td>1.0</td>\n",
       "      <td>1.0</td>\n",
       "      <td>2018.1</td>\n",
       "    </tr>\n",
       "    <tr>\n",
       "      <th>4</th>\n",
       "      <td>100435552.0</td>\n",
       "      <td>2016.0</td>\n",
       "      <td>0.0</td>\n",
       "      <td>1.0</td>\n",
       "      <td>2016.0</td>\n",
       "      <td>130155.0</td>\n",
       "      <td>52.0</td>\n",
       "      <td>1.0</td>\n",
       "      <td>6.0</td>\n",
       "      <td>-8.0</td>\n",
       "      <td>...</td>\n",
       "      <td>-9.0</td>\n",
       "      <td>-9.0</td>\n",
       "      <td>-9.0</td>\n",
       "      <td>-8.0</td>\n",
       "      <td>-8.0</td>\n",
       "      <td>-8.0</td>\n",
       "      <td>1.0</td>\n",
       "      <td>-8.0</td>\n",
       "      <td>1.0</td>\n",
       "      <td>2018.1</td>\n",
       "    </tr>\n",
       "  </tbody>\n",
       "</table>\n",
       "<p>5 rows × 95 columns</p>\n",
       "</div>"
      ],
      "text/plain": [
       "           pid  birthy  gender  ethnicity  entrayear  fidbaseline   psu  \\\n",
       "0  100051501.0  1969.0     0.0        1.0     2014.0     110043.0  45.0   \n",
       "1  100051502.0  1966.0     1.0        1.0     2014.0     110043.0  45.0   \n",
       "2  100160601.0  1989.0     1.0        1.0     2018.0     120009.0  79.0   \n",
       "3  100376551.0  1997.0     0.0        NaN     2016.0     130094.0  47.0   \n",
       "4  100435552.0  2016.0     0.0        1.0     2016.0     130155.0  52.0   \n",
       "\n",
       "   subsample  subpopulation  fid10  ...  cfps2018sch  cfps2018eduy  \\\n",
       "0        1.0            6.0   -8.0  ...          4.0          12.0   \n",
       "1        1.0            6.0   -8.0  ...          4.0          12.0   \n",
       "2        1.0            6.0   -8.0  ...         -9.0          -9.0   \n",
       "3        1.0            6.0   -8.0  ...         -9.0          -9.0   \n",
       "4        1.0            6.0   -8.0  ...         -9.0          -9.0   \n",
       "\n",
       "   cfps2018eduy_im  urban18  hk18  employ18  genetype18 coremember18  alive18  \\\n",
       "0             12.0      1.0   3.0       1.0         0.0          1.0      1.0   \n",
       "1             12.0      1.0   3.0       1.0         0.0          1.0      1.0   \n",
       "2             -9.0      1.0   3.0       1.0         0.0          1.0      1.0   \n",
       "3             -9.0      0.0   1.0       3.0         0.0          1.0      1.0   \n",
       "4             -9.0     -8.0  -8.0      -8.0         1.0         -8.0      1.0   \n",
       "\n",
       "   releaseversion  \n",
       "0          2018.1  \n",
       "1          2018.1  \n",
       "2          2018.1  \n",
       "3          2018.1  \n",
       "4          2018.1  \n",
       "\n",
       "[5 rows x 95 columns]"
      ]
     },
     "execution_count": 46,
     "metadata": {},
     "output_type": "execute_result"
    },
    {
     "data": {
      "text/html": [
       "<div>\n",
       "<style scoped>\n",
       "    .dataframe tbody tr th:only-of-type {\n",
       "        vertical-align: middle;\n",
       "    }\n",
       "\n",
       "    .dataframe tbody tr th {\n",
       "        vertical-align: top;\n",
       "    }\n",
       "\n",
       "    .dataframe thead th {\n",
       "        text-align: right;\n",
       "    }\n",
       "</style>\n",
       "<table border=\"1\" class=\"dataframe\">\n",
       "  <thead>\n",
       "    <tr style=\"text-align: right;\">\n",
       "      <th></th>\n",
       "      <th>pid</th>\n",
       "      <th>code</th>\n",
       "      <th>fid18</th>\n",
       "      <th>fid16</th>\n",
       "      <th>fid14</th>\n",
       "      <th>fid12</th>\n",
       "      <th>fid10</th>\n",
       "      <th>pid_a_f</th>\n",
       "      <th>pid_a_m</th>\n",
       "      <th>selfrpt</th>\n",
       "      <th>...</th>\n",
       "      <th>cfps2018eduy_im</th>\n",
       "      <th>gdge</th>\n",
       "      <th>gdgeyear</th>\n",
       "      <th>gdgemonth</th>\n",
       "      <th>catipilot</th>\n",
       "      <th>pg02</th>\n",
       "      <th>pg1201_min</th>\n",
       "      <th>pg1201_max</th>\n",
       "      <th>interviewerid18</th>\n",
       "      <th>releaseversion</th>\n",
       "    </tr>\n",
       "  </thead>\n",
       "  <tbody>\n",
       "    <tr>\n",
       "      <th>0</th>\n",
       "      <td>100051501.0</td>\n",
       "      <td>501.0</td>\n",
       "      <td>100051.0</td>\n",
       "      <td>100051.0</td>\n",
       "      <td>100051.0</td>\n",
       "      <td>-8.0</td>\n",
       "      <td>-8.0</td>\n",
       "      <td>110043201.0</td>\n",
       "      <td>110043105.0</td>\n",
       "      <td>1.0</td>\n",
       "      <td>...</td>\n",
       "      <td>12.0</td>\n",
       "      <td>NaN</td>\n",
       "      <td>NaN</td>\n",
       "      <td>NaN</td>\n",
       "      <td>0.0</td>\n",
       "      <td>NaN</td>\n",
       "      <td>NaN</td>\n",
       "      <td>NaN</td>\n",
       "      <td>761040.0</td>\n",
       "      <td>2.1</td>\n",
       "    </tr>\n",
       "    <tr>\n",
       "      <th>1</th>\n",
       "      <td>100051502.0</td>\n",
       "      <td>502.0</td>\n",
       "      <td>100051.0</td>\n",
       "      <td>100051.0</td>\n",
       "      <td>100051.0</td>\n",
       "      <td>-8.0</td>\n",
       "      <td>-8.0</td>\n",
       "      <td>-8.0</td>\n",
       "      <td>-8.0</td>\n",
       "      <td>1.0</td>\n",
       "      <td>...</td>\n",
       "      <td>12.0</td>\n",
       "      <td>NaN</td>\n",
       "      <td>NaN</td>\n",
       "      <td>NaN</td>\n",
       "      <td>0.0</td>\n",
       "      <td>NaN</td>\n",
       "      <td>NaN</td>\n",
       "      <td>NaN</td>\n",
       "      <td>761040.0</td>\n",
       "      <td>2.1</td>\n",
       "    </tr>\n",
       "    <tr>\n",
       "      <th>2</th>\n",
       "      <td>100160601.0</td>\n",
       "      <td>601.0</td>\n",
       "      <td>100160.0</td>\n",
       "      <td>-8.0</td>\n",
       "      <td>-8.0</td>\n",
       "      <td>-8.0</td>\n",
       "      <td>-8.0</td>\n",
       "      <td>-8.0</td>\n",
       "      <td>-8.0</td>\n",
       "      <td>1.0</td>\n",
       "      <td>...</td>\n",
       "      <td>NaN</td>\n",
       "      <td>NaN</td>\n",
       "      <td>NaN</td>\n",
       "      <td>NaN</td>\n",
       "      <td>0.0</td>\n",
       "      <td>NaN</td>\n",
       "      <td>NaN</td>\n",
       "      <td>NaN</td>\n",
       "      <td>459505.0</td>\n",
       "      <td>2.1</td>\n",
       "    </tr>\n",
       "    <tr>\n",
       "      <th>3</th>\n",
       "      <td>100376551.0</td>\n",
       "      <td>551.0</td>\n",
       "      <td>100376.0</td>\n",
       "      <td>100376.0</td>\n",
       "      <td>-8.0</td>\n",
       "      <td>-8.0</td>\n",
       "      <td>-8.0</td>\n",
       "      <td>-8.0</td>\n",
       "      <td>-8.0</td>\n",
       "      <td>1.0</td>\n",
       "      <td>...</td>\n",
       "      <td>NaN</td>\n",
       "      <td>NaN</td>\n",
       "      <td>NaN</td>\n",
       "      <td>NaN</td>\n",
       "      <td>0.0</td>\n",
       "      <td>NaN</td>\n",
       "      <td>NaN</td>\n",
       "      <td>NaN</td>\n",
       "      <td>526621.0</td>\n",
       "      <td>2.1</td>\n",
       "    </tr>\n",
       "    <tr>\n",
       "      <th>4</th>\n",
       "      <td>100551551.0</td>\n",
       "      <td>551.0</td>\n",
       "      <td>100551.0</td>\n",
       "      <td>100551.0</td>\n",
       "      <td>-8.0</td>\n",
       "      <td>-8.0</td>\n",
       "      <td>-8.0</td>\n",
       "      <td>-8.0</td>\n",
       "      <td>-8.0</td>\n",
       "      <td>1.0</td>\n",
       "      <td>...</td>\n",
       "      <td>NaN</td>\n",
       "      <td>NaN</td>\n",
       "      <td>NaN</td>\n",
       "      <td>NaN</td>\n",
       "      <td>0.0</td>\n",
       "      <td>NaN</td>\n",
       "      <td>NaN</td>\n",
       "      <td>NaN</td>\n",
       "      <td>696822.0</td>\n",
       "      <td>2.1</td>\n",
       "    </tr>\n",
       "  </tbody>\n",
       "</table>\n",
       "<p>5 rows × 1371 columns</p>\n",
       "</div>"
      ],
      "text/plain": [
       "           pid   code     fid18     fid16     fid14  fid12  fid10  \\\n",
       "0  100051501.0  501.0  100051.0  100051.0  100051.0   -8.0   -8.0   \n",
       "1  100051502.0  502.0  100051.0  100051.0  100051.0   -8.0   -8.0   \n",
       "2  100160601.0  601.0  100160.0      -8.0      -8.0   -8.0   -8.0   \n",
       "3  100376551.0  551.0  100376.0  100376.0      -8.0   -8.0   -8.0   \n",
       "4  100551551.0  551.0  100551.0  100551.0      -8.0   -8.0   -8.0   \n",
       "\n",
       "       pid_a_f      pid_a_m  selfrpt  ...  cfps2018eduy_im  gdge  gdgeyear  \\\n",
       "0  110043201.0  110043105.0      1.0  ...             12.0   NaN       NaN   \n",
       "1         -8.0         -8.0      1.0  ...             12.0   NaN       NaN   \n",
       "2         -8.0         -8.0      1.0  ...              NaN   NaN       NaN   \n",
       "3         -8.0         -8.0      1.0  ...              NaN   NaN       NaN   \n",
       "4         -8.0         -8.0      1.0  ...              NaN   NaN       NaN   \n",
       "\n",
       "   gdgemonth  catipilot  pg02  pg1201_min  pg1201_max  interviewerid18  \\\n",
       "0        NaN        0.0   NaN         NaN         NaN         761040.0   \n",
       "1        NaN        0.0   NaN         NaN         NaN         761040.0   \n",
       "2        NaN        0.0   NaN         NaN         NaN         459505.0   \n",
       "3        NaN        0.0   NaN         NaN         NaN         526621.0   \n",
       "4        NaN        0.0   NaN         NaN         NaN         696822.0   \n",
       "\n",
       "   releaseversion  \n",
       "0             2.1  \n",
       "1             2.1  \n",
       "2             2.1  \n",
       "3             2.1  \n",
       "4             2.1  \n",
       "\n",
       "[5 rows x 1371 columns]"
      ]
     },
     "execution_count": 46,
     "metadata": {},
     "output_type": "execute_result"
    }
   ],
   "source": [
    "#看一些数据分布情况\n",
    "print(data_cross['alive18'].value_counts()) #0：去世；1：健在；-8：不适用\n",
    "death=data_cross[data_cross['alive18']==0]\n",
    "death.loc[:,:].head(5)\n",
    "print(data_person['qp303'].value_counts()) #1：不严重；3：一般；5：严重；-8：不适用;-1:未知\n",
    "data_cross.head()\n",
    "data_person.head()"
   ]
  },
  {
   "cell_type": "code",
   "execution_count": 47,
   "id": "4523bed4",
   "metadata": {},
   "outputs": [
    {
     "data": {
      "text/html": [
       "<div>\n",
       "<style scoped>\n",
       "    .dataframe tbody tr th:only-of-type {\n",
       "        vertical-align: middle;\n",
       "    }\n",
       "\n",
       "    .dataframe tbody tr th {\n",
       "        vertical-align: top;\n",
       "    }\n",
       "\n",
       "    .dataframe thead th {\n",
       "        text-align: right;\n",
       "    }\n",
       "</style>\n",
       "<table border=\"1\" class=\"dataframe\">\n",
       "  <thead>\n",
       "    <tr style=\"text-align: right;\">\n",
       "      <th></th>\n",
       "      <th>pid</th>\n",
       "      <th>code</th>\n",
       "      <th>fid18</th>\n",
       "      <th>fid16</th>\n",
       "      <th>fid14</th>\n",
       "      <th>fid12</th>\n",
       "      <th>fid10</th>\n",
       "      <th>pid_a_f</th>\n",
       "      <th>pid_a_m</th>\n",
       "      <th>selfrpt</th>\n",
       "      <th>...</th>\n",
       "      <th>cfps2018eduy_im</th>\n",
       "      <th>gdge</th>\n",
       "      <th>gdgeyear</th>\n",
       "      <th>gdgemonth</th>\n",
       "      <th>catipilot</th>\n",
       "      <th>pg02</th>\n",
       "      <th>pg1201_min</th>\n",
       "      <th>pg1201_max</th>\n",
       "      <th>interviewerid18</th>\n",
       "      <th>releaseversion</th>\n",
       "    </tr>\n",
       "  </thead>\n",
       "  <tbody>\n",
       "    <tr>\n",
       "      <th>7</th>\n",
       "      <td>100810551.0</td>\n",
       "      <td>551.0</td>\n",
       "      <td>100810.0</td>\n",
       "      <td>100810.0</td>\n",
       "      <td>-8.0</td>\n",
       "      <td>-8.0</td>\n",
       "      <td>-8.0</td>\n",
       "      <td>-8.0</td>\n",
       "      <td>-8.0</td>\n",
       "      <td>1.0</td>\n",
       "      <td>...</td>\n",
       "      <td>6.0</td>\n",
       "      <td>NaN</td>\n",
       "      <td>NaN</td>\n",
       "      <td>NaN</td>\n",
       "      <td>0.0</td>\n",
       "      <td>NaN</td>\n",
       "      <td>NaN</td>\n",
       "      <td>NaN</td>\n",
       "      <td>803368.0</td>\n",
       "      <td>2.1</td>\n",
       "    </tr>\n",
       "    <tr>\n",
       "      <th>8</th>\n",
       "      <td>101129501.0</td>\n",
       "      <td>501.0</td>\n",
       "      <td>101129.0</td>\n",
       "      <td>101129.0</td>\n",
       "      <td>101129.0</td>\n",
       "      <td>-8.0</td>\n",
       "      <td>-8.0</td>\n",
       "      <td>-8.0</td>\n",
       "      <td>-8.0</td>\n",
       "      <td>1.0</td>\n",
       "      <td>...</td>\n",
       "      <td>9.0</td>\n",
       "      <td>NaN</td>\n",
       "      <td>NaN</td>\n",
       "      <td>NaN</td>\n",
       "      <td>0.0</td>\n",
       "      <td>NaN</td>\n",
       "      <td>NaN</td>\n",
       "      <td>NaN</td>\n",
       "      <td>477664.0</td>\n",
       "      <td>2.1</td>\n",
       "    </tr>\n",
       "    <tr>\n",
       "      <th>15</th>\n",
       "      <td>103923551.0</td>\n",
       "      <td>551.0</td>\n",
       "      <td>103923.0</td>\n",
       "      <td>103923.0</td>\n",
       "      <td>-8.0</td>\n",
       "      <td>-8.0</td>\n",
       "      <td>-8.0</td>\n",
       "      <td>-8.0</td>\n",
       "      <td>-8.0</td>\n",
       "      <td>1.0</td>\n",
       "      <td>...</td>\n",
       "      <td>NaN</td>\n",
       "      <td>NaN</td>\n",
       "      <td>NaN</td>\n",
       "      <td>NaN</td>\n",
       "      <td>0.0</td>\n",
       "      <td>NaN</td>\n",
       "      <td>NaN</td>\n",
       "      <td>NaN</td>\n",
       "      <td>707372.0</td>\n",
       "      <td>2.1</td>\n",
       "    </tr>\n",
       "    <tr>\n",
       "      <th>54</th>\n",
       "      <td>110026104.0</td>\n",
       "      <td>104.0</td>\n",
       "      <td>110026.0</td>\n",
       "      <td>110026.0</td>\n",
       "      <td>110026.0</td>\n",
       "      <td>110026.0</td>\n",
       "      <td>110026.0</td>\n",
       "      <td>110026204.0</td>\n",
       "      <td>110026205.0</td>\n",
       "      <td>1.0</td>\n",
       "      <td>...</td>\n",
       "      <td>9.0</td>\n",
       "      <td>NaN</td>\n",
       "      <td>NaN</td>\n",
       "      <td>NaN</td>\n",
       "      <td>0.0</td>\n",
       "      <td>NaN</td>\n",
       "      <td>NaN</td>\n",
       "      <td>NaN</td>\n",
       "      <td>831811.0</td>\n",
       "      <td>2.1</td>\n",
       "    </tr>\n",
       "    <tr>\n",
       "      <th>59</th>\n",
       "      <td>110031101.0</td>\n",
       "      <td>101.0</td>\n",
       "      <td>110031.0</td>\n",
       "      <td>110031.0</td>\n",
       "      <td>110031.0</td>\n",
       "      <td>110031.0</td>\n",
       "      <td>110031.0</td>\n",
       "      <td>110031201.0</td>\n",
       "      <td>110031202.0</td>\n",
       "      <td>1.0</td>\n",
       "      <td>...</td>\n",
       "      <td>12.0</td>\n",
       "      <td>NaN</td>\n",
       "      <td>NaN</td>\n",
       "      <td>NaN</td>\n",
       "      <td>0.0</td>\n",
       "      <td>NaN</td>\n",
       "      <td>NaN</td>\n",
       "      <td>NaN</td>\n",
       "      <td>831811.0</td>\n",
       "      <td>2.1</td>\n",
       "    </tr>\n",
       "    <tr>\n",
       "      <th>...</th>\n",
       "      <td>...</td>\n",
       "      <td>...</td>\n",
       "      <td>...</td>\n",
       "      <td>...</td>\n",
       "      <td>...</td>\n",
       "      <td>...</td>\n",
       "      <td>...</td>\n",
       "      <td>...</td>\n",
       "      <td>...</td>\n",
       "      <td>...</td>\n",
       "      <td>...</td>\n",
       "      <td>...</td>\n",
       "      <td>...</td>\n",
       "      <td>...</td>\n",
       "      <td>...</td>\n",
       "      <td>...</td>\n",
       "      <td>...</td>\n",
       "      <td>...</td>\n",
       "      <td>...</td>\n",
       "      <td>...</td>\n",
       "      <td>...</td>\n",
       "    </tr>\n",
       "    <tr>\n",
       "      <th>37272</th>\n",
       "      <td>732190501.0</td>\n",
       "      <td>501.0</td>\n",
       "      <td>732190.0</td>\n",
       "      <td>732190.0</td>\n",
       "      <td>732190.0</td>\n",
       "      <td>-8.0</td>\n",
       "      <td>-8.0</td>\n",
       "      <td>-8.0</td>\n",
       "      <td>-8.0</td>\n",
       "      <td>1.0</td>\n",
       "      <td>...</td>\n",
       "      <td>0.0</td>\n",
       "      <td>NaN</td>\n",
       "      <td>NaN</td>\n",
       "      <td>NaN</td>\n",
       "      <td>0.0</td>\n",
       "      <td>NaN</td>\n",
       "      <td>NaN</td>\n",
       "      <td>NaN</td>\n",
       "      <td>508549.0</td>\n",
       "      <td>2.1</td>\n",
       "    </tr>\n",
       "    <tr>\n",
       "      <th>37281</th>\n",
       "      <td>766521551.0</td>\n",
       "      <td>551.0</td>\n",
       "      <td>766521.0</td>\n",
       "      <td>766521.0</td>\n",
       "      <td>-8.0</td>\n",
       "      <td>-8.0</td>\n",
       "      <td>-8.0</td>\n",
       "      <td>-8.0</td>\n",
       "      <td>-8.0</td>\n",
       "      <td>1.0</td>\n",
       "      <td>...</td>\n",
       "      <td>0.0</td>\n",
       "      <td>NaN</td>\n",
       "      <td>NaN</td>\n",
       "      <td>NaN</td>\n",
       "      <td>0.0</td>\n",
       "      <td>NaN</td>\n",
       "      <td>NaN</td>\n",
       "      <td>NaN</td>\n",
       "      <td>660846.0</td>\n",
       "      <td>2.1</td>\n",
       "    </tr>\n",
       "    <tr>\n",
       "      <th>37318</th>\n",
       "      <td>903892431.0</td>\n",
       "      <td>431.0</td>\n",
       "      <td>903892.0</td>\n",
       "      <td>903892.0</td>\n",
       "      <td>903892.0</td>\n",
       "      <td>903892.0</td>\n",
       "      <td>-8.0</td>\n",
       "      <td>903892432.0</td>\n",
       "      <td>903892433.0</td>\n",
       "      <td>1.0</td>\n",
       "      <td>...</td>\n",
       "      <td>12.0</td>\n",
       "      <td>NaN</td>\n",
       "      <td>NaN</td>\n",
       "      <td>NaN</td>\n",
       "      <td>0.0</td>\n",
       "      <td>NaN</td>\n",
       "      <td>NaN</td>\n",
       "      <td>NaN</td>\n",
       "      <td>533008.0</td>\n",
       "      <td>2.1</td>\n",
       "    </tr>\n",
       "    <tr>\n",
       "      <th>37323</th>\n",
       "      <td>912238554.0</td>\n",
       "      <td>554.0</td>\n",
       "      <td>912238.0</td>\n",
       "      <td>912238.0</td>\n",
       "      <td>-8.0</td>\n",
       "      <td>-8.0</td>\n",
       "      <td>-8.0</td>\n",
       "      <td>-8.0</td>\n",
       "      <td>-8.0</td>\n",
       "      <td>1.0</td>\n",
       "      <td>...</td>\n",
       "      <td>0.0</td>\n",
       "      <td>NaN</td>\n",
       "      <td>NaN</td>\n",
       "      <td>NaN</td>\n",
       "      <td>0.0</td>\n",
       "      <td>NaN</td>\n",
       "      <td>NaN</td>\n",
       "      <td>NaN</td>\n",
       "      <td>605017.0</td>\n",
       "      <td>2.1</td>\n",
       "    </tr>\n",
       "    <tr>\n",
       "      <th>37325</th>\n",
       "      <td>923714501.0</td>\n",
       "      <td>501.0</td>\n",
       "      <td>923714.0</td>\n",
       "      <td>923714.0</td>\n",
       "      <td>923714.0</td>\n",
       "      <td>-8.0</td>\n",
       "      <td>-8.0</td>\n",
       "      <td>370452102.0</td>\n",
       "      <td>370452101.0</td>\n",
       "      <td>1.0</td>\n",
       "      <td>...</td>\n",
       "      <td>4.0</td>\n",
       "      <td>NaN</td>\n",
       "      <td>NaN</td>\n",
       "      <td>NaN</td>\n",
       "      <td>0.0</td>\n",
       "      <td>NaN</td>\n",
       "      <td>NaN</td>\n",
       "      <td>NaN</td>\n",
       "      <td>423385.0</td>\n",
       "      <td>2.1</td>\n",
       "    </tr>\n",
       "  </tbody>\n",
       "</table>\n",
       "<p>3646 rows × 1371 columns</p>\n",
       "</div>"
      ],
      "text/plain": [
       "               pid   code     fid18     fid16     fid14     fid12     fid10  \\\n",
       "7      100810551.0  551.0  100810.0  100810.0      -8.0      -8.0      -8.0   \n",
       "8      101129501.0  501.0  101129.0  101129.0  101129.0      -8.0      -8.0   \n",
       "15     103923551.0  551.0  103923.0  103923.0      -8.0      -8.0      -8.0   \n",
       "54     110026104.0  104.0  110026.0  110026.0  110026.0  110026.0  110026.0   \n",
       "59     110031101.0  101.0  110031.0  110031.0  110031.0  110031.0  110031.0   \n",
       "...            ...    ...       ...       ...       ...       ...       ...   \n",
       "37272  732190501.0  501.0  732190.0  732190.0  732190.0      -8.0      -8.0   \n",
       "37281  766521551.0  551.0  766521.0  766521.0      -8.0      -8.0      -8.0   \n",
       "37318  903892431.0  431.0  903892.0  903892.0  903892.0  903892.0      -8.0   \n",
       "37323  912238554.0  554.0  912238.0  912238.0      -8.0      -8.0      -8.0   \n",
       "37325  923714501.0  501.0  923714.0  923714.0  923714.0      -8.0      -8.0   \n",
       "\n",
       "           pid_a_f      pid_a_m  selfrpt  ...  cfps2018eduy_im  gdge  \\\n",
       "7             -8.0         -8.0      1.0  ...              6.0   NaN   \n",
       "8             -8.0         -8.0      1.0  ...              9.0   NaN   \n",
       "15            -8.0         -8.0      1.0  ...              NaN   NaN   \n",
       "54     110026204.0  110026205.0      1.0  ...              9.0   NaN   \n",
       "59     110031201.0  110031202.0      1.0  ...             12.0   NaN   \n",
       "...            ...          ...      ...  ...              ...   ...   \n",
       "37272         -8.0         -8.0      1.0  ...              0.0   NaN   \n",
       "37281         -8.0         -8.0      1.0  ...              0.0   NaN   \n",
       "37318  903892432.0  903892433.0      1.0  ...             12.0   NaN   \n",
       "37323         -8.0         -8.0      1.0  ...              0.0   NaN   \n",
       "37325  370452102.0  370452101.0      1.0  ...              4.0   NaN   \n",
       "\n",
       "       gdgeyear  gdgemonth  catipilot  pg02  pg1201_min  pg1201_max  \\\n",
       "7           NaN        NaN        0.0   NaN         NaN         NaN   \n",
       "8           NaN        NaN        0.0   NaN         NaN         NaN   \n",
       "15          NaN        NaN        0.0   NaN         NaN         NaN   \n",
       "54          NaN        NaN        0.0   NaN         NaN         NaN   \n",
       "59          NaN        NaN        0.0   NaN         NaN         NaN   \n",
       "...         ...        ...        ...   ...         ...         ...   \n",
       "37272       NaN        NaN        0.0   NaN         NaN         NaN   \n",
       "37281       NaN        NaN        0.0   NaN         NaN         NaN   \n",
       "37318       NaN        NaN        0.0   NaN         NaN         NaN   \n",
       "37323       NaN        NaN        0.0   NaN         NaN         NaN   \n",
       "37325       NaN        NaN        0.0   NaN         NaN         NaN   \n",
       "\n",
       "       interviewerid18  releaseversion  \n",
       "7             803368.0             2.1  \n",
       "8             477664.0             2.1  \n",
       "15            707372.0             2.1  \n",
       "54            831811.0             2.1  \n",
       "59            831811.0             2.1  \n",
       "...                ...             ...  \n",
       "37272         508549.0             2.1  \n",
       "37281         660846.0             2.1  \n",
       "37318         533008.0             2.1  \n",
       "37323         605017.0             2.1  \n",
       "37325         423385.0             2.1  \n",
       "\n",
       "[3646 rows x 1371 columns]"
      ]
     },
     "execution_count": 47,
     "metadata": {},
     "output_type": "execute_result"
    },
    {
     "data": {
      "text/html": [
       "<div>\n",
       "<style scoped>\n",
       "    .dataframe tbody tr th:only-of-type {\n",
       "        vertical-align: middle;\n",
       "    }\n",
       "\n",
       "    .dataframe tbody tr th {\n",
       "        vertical-align: top;\n",
       "    }\n",
       "\n",
       "    .dataframe thead th {\n",
       "        text-align: right;\n",
       "    }\n",
       "</style>\n",
       "<table border=\"1\" class=\"dataframe\">\n",
       "  <thead>\n",
       "    <tr style=\"text-align: right;\">\n",
       "      <th></th>\n",
       "      <th>pid</th>\n",
       "      <th>code</th>\n",
       "      <th>fid18</th>\n",
       "      <th>fid16</th>\n",
       "      <th>fid14</th>\n",
       "      <th>fid12</th>\n",
       "      <th>fid10</th>\n",
       "      <th>pid_a_f</th>\n",
       "      <th>pid_a_m</th>\n",
       "      <th>selfrpt</th>\n",
       "      <th>...</th>\n",
       "      <th>inroster18</th>\n",
       "      <th>indsurvey18</th>\n",
       "      <th>selfrpt18</th>\n",
       "      <th>co_a18_p</th>\n",
       "      <th>marriage_18</th>\n",
       "      <th>hk18</th>\n",
       "      <th>employ18</th>\n",
       "      <th>genetype18</th>\n",
       "      <th>coremember18</th>\n",
       "      <th>alive18</th>\n",
       "    </tr>\n",
       "  </thead>\n",
       "  <tbody>\n",
       "    <tr>\n",
       "      <th>0</th>\n",
       "      <td>100810551.0</td>\n",
       "      <td>551.0</td>\n",
       "      <td>100810.0</td>\n",
       "      <td>100810.0</td>\n",
       "      <td>-8.0</td>\n",
       "      <td>-8.0</td>\n",
       "      <td>-8.0</td>\n",
       "      <td>-8.0</td>\n",
       "      <td>-8.0</td>\n",
       "      <td>1.0</td>\n",
       "      <td>...</td>\n",
       "      <td>NaN</td>\n",
       "      <td>NaN</td>\n",
       "      <td>NaN</td>\n",
       "      <td>NaN</td>\n",
       "      <td>NaN</td>\n",
       "      <td>NaN</td>\n",
       "      <td>NaN</td>\n",
       "      <td>NaN</td>\n",
       "      <td>NaN</td>\n",
       "      <td>NaN</td>\n",
       "    </tr>\n",
       "    <tr>\n",
       "      <th>1</th>\n",
       "      <td>101129501.0</td>\n",
       "      <td>501.0</td>\n",
       "      <td>101129.0</td>\n",
       "      <td>101129.0</td>\n",
       "      <td>101129.0</td>\n",
       "      <td>-8.0</td>\n",
       "      <td>-8.0</td>\n",
       "      <td>-8.0</td>\n",
       "      <td>-8.0</td>\n",
       "      <td>1.0</td>\n",
       "      <td>...</td>\n",
       "      <td>NaN</td>\n",
       "      <td>NaN</td>\n",
       "      <td>NaN</td>\n",
       "      <td>NaN</td>\n",
       "      <td>NaN</td>\n",
       "      <td>NaN</td>\n",
       "      <td>NaN</td>\n",
       "      <td>NaN</td>\n",
       "      <td>NaN</td>\n",
       "      <td>NaN</td>\n",
       "    </tr>\n",
       "    <tr>\n",
       "      <th>2</th>\n",
       "      <td>103923551.0</td>\n",
       "      <td>551.0</td>\n",
       "      <td>103923.0</td>\n",
       "      <td>103923.0</td>\n",
       "      <td>-8.0</td>\n",
       "      <td>-8.0</td>\n",
       "      <td>-8.0</td>\n",
       "      <td>-8.0</td>\n",
       "      <td>-8.0</td>\n",
       "      <td>1.0</td>\n",
       "      <td>...</td>\n",
       "      <td>NaN</td>\n",
       "      <td>NaN</td>\n",
       "      <td>NaN</td>\n",
       "      <td>NaN</td>\n",
       "      <td>NaN</td>\n",
       "      <td>NaN</td>\n",
       "      <td>NaN</td>\n",
       "      <td>NaN</td>\n",
       "      <td>NaN</td>\n",
       "      <td>NaN</td>\n",
       "    </tr>\n",
       "    <tr>\n",
       "      <th>3</th>\n",
       "      <td>110026104.0</td>\n",
       "      <td>104.0</td>\n",
       "      <td>110026.0</td>\n",
       "      <td>110026.0</td>\n",
       "      <td>110026.0</td>\n",
       "      <td>110026.0</td>\n",
       "      <td>110026.0</td>\n",
       "      <td>110026204.0</td>\n",
       "      <td>110026205.0</td>\n",
       "      <td>1.0</td>\n",
       "      <td>...</td>\n",
       "      <td>NaN</td>\n",
       "      <td>NaN</td>\n",
       "      <td>NaN</td>\n",
       "      <td>NaN</td>\n",
       "      <td>NaN</td>\n",
       "      <td>NaN</td>\n",
       "      <td>NaN</td>\n",
       "      <td>NaN</td>\n",
       "      <td>NaN</td>\n",
       "      <td>NaN</td>\n",
       "    </tr>\n",
       "    <tr>\n",
       "      <th>4</th>\n",
       "      <td>110031101.0</td>\n",
       "      <td>101.0</td>\n",
       "      <td>110031.0</td>\n",
       "      <td>110031.0</td>\n",
       "      <td>110031.0</td>\n",
       "      <td>110031.0</td>\n",
       "      <td>110031.0</td>\n",
       "      <td>110031201.0</td>\n",
       "      <td>110031202.0</td>\n",
       "      <td>1.0</td>\n",
       "      <td>...</td>\n",
       "      <td>NaN</td>\n",
       "      <td>NaN</td>\n",
       "      <td>NaN</td>\n",
       "      <td>NaN</td>\n",
       "      <td>NaN</td>\n",
       "      <td>NaN</td>\n",
       "      <td>NaN</td>\n",
       "      <td>NaN</td>\n",
       "      <td>NaN</td>\n",
       "      <td>NaN</td>\n",
       "    </tr>\n",
       "    <tr>\n",
       "      <th>...</th>\n",
       "      <td>...</td>\n",
       "      <td>...</td>\n",
       "      <td>...</td>\n",
       "      <td>...</td>\n",
       "      <td>...</td>\n",
       "      <td>...</td>\n",
       "      <td>...</td>\n",
       "      <td>...</td>\n",
       "      <td>...</td>\n",
       "      <td>...</td>\n",
       "      <td>...</td>\n",
       "      <td>...</td>\n",
       "      <td>...</td>\n",
       "      <td>...</td>\n",
       "      <td>...</td>\n",
       "      <td>...</td>\n",
       "      <td>...</td>\n",
       "      <td>...</td>\n",
       "      <td>...</td>\n",
       "      <td>...</td>\n",
       "      <td>...</td>\n",
       "    </tr>\n",
       "    <tr>\n",
       "      <th>4542</th>\n",
       "      <td>621848102.0</td>\n",
       "      <td>NaN</td>\n",
       "      <td>621848.0</td>\n",
       "      <td>621848.0</td>\n",
       "      <td>621848.0</td>\n",
       "      <td>621848.0</td>\n",
       "      <td>621848.0</td>\n",
       "      <td>NaN</td>\n",
       "      <td>NaN</td>\n",
       "      <td>NaN</td>\n",
       "      <td>...</td>\n",
       "      <td>1.0</td>\n",
       "      <td>0.0</td>\n",
       "      <td>-8.0</td>\n",
       "      <td>0.0</td>\n",
       "      <td>2.0</td>\n",
       "      <td>-8.0</td>\n",
       "      <td>-8.0</td>\n",
       "      <td>7.0</td>\n",
       "      <td>-8.0</td>\n",
       "      <td>0.0</td>\n",
       "    </tr>\n",
       "    <tr>\n",
       "      <th>4543</th>\n",
       "      <td>621852102.0</td>\n",
       "      <td>NaN</td>\n",
       "      <td>621852.0</td>\n",
       "      <td>621852.0</td>\n",
       "      <td>621852.0</td>\n",
       "      <td>621852.0</td>\n",
       "      <td>621852.0</td>\n",
       "      <td>NaN</td>\n",
       "      <td>NaN</td>\n",
       "      <td>NaN</td>\n",
       "      <td>...</td>\n",
       "      <td>1.0</td>\n",
       "      <td>0.0</td>\n",
       "      <td>-8.0</td>\n",
       "      <td>0.0</td>\n",
       "      <td>2.0</td>\n",
       "      <td>-8.0</td>\n",
       "      <td>-8.0</td>\n",
       "      <td>7.0</td>\n",
       "      <td>-8.0</td>\n",
       "      <td>0.0</td>\n",
       "    </tr>\n",
       "    <tr>\n",
       "      <th>4544</th>\n",
       "      <td>621859101.0</td>\n",
       "      <td>NaN</td>\n",
       "      <td>621859.0</td>\n",
       "      <td>621859.0</td>\n",
       "      <td>621859.0</td>\n",
       "      <td>621859.0</td>\n",
       "      <td>621859.0</td>\n",
       "      <td>NaN</td>\n",
       "      <td>NaN</td>\n",
       "      <td>NaN</td>\n",
       "      <td>...</td>\n",
       "      <td>1.0</td>\n",
       "      <td>0.0</td>\n",
       "      <td>-8.0</td>\n",
       "      <td>0.0</td>\n",
       "      <td>2.0</td>\n",
       "      <td>-8.0</td>\n",
       "      <td>-8.0</td>\n",
       "      <td>7.0</td>\n",
       "      <td>-8.0</td>\n",
       "      <td>0.0</td>\n",
       "    </tr>\n",
       "    <tr>\n",
       "      <th>4545</th>\n",
       "      <td>723113434.0</td>\n",
       "      <td>NaN</td>\n",
       "      <td>723113.0</td>\n",
       "      <td>-8.0</td>\n",
       "      <td>723113.0</td>\n",
       "      <td>723113.0</td>\n",
       "      <td>-8.0</td>\n",
       "      <td>NaN</td>\n",
       "      <td>NaN</td>\n",
       "      <td>NaN</td>\n",
       "      <td>...</td>\n",
       "      <td>1.0</td>\n",
       "      <td>0.0</td>\n",
       "      <td>-8.0</td>\n",
       "      <td>0.0</td>\n",
       "      <td>5.0</td>\n",
       "      <td>1.0</td>\n",
       "      <td>-8.0</td>\n",
       "      <td>0.0</td>\n",
       "      <td>0.0</td>\n",
       "      <td>0.0</td>\n",
       "    </tr>\n",
       "    <tr>\n",
       "      <th>4546</th>\n",
       "      <td>797332432.0</td>\n",
       "      <td>NaN</td>\n",
       "      <td>797332.0</td>\n",
       "      <td>797332.0</td>\n",
       "      <td>797332.0</td>\n",
       "      <td>797332.0</td>\n",
       "      <td>-8.0</td>\n",
       "      <td>NaN</td>\n",
       "      <td>NaN</td>\n",
       "      <td>NaN</td>\n",
       "      <td>...</td>\n",
       "      <td>1.0</td>\n",
       "      <td>0.0</td>\n",
       "      <td>-8.0</td>\n",
       "      <td>0.0</td>\n",
       "      <td>4.0</td>\n",
       "      <td>-8.0</td>\n",
       "      <td>-8.0</td>\n",
       "      <td>0.0</td>\n",
       "      <td>1.0</td>\n",
       "      <td>0.0</td>\n",
       "    </tr>\n",
       "  </tbody>\n",
       "</table>\n",
       "<p>4547 rows × 1449 columns</p>\n",
       "</div>"
      ],
      "text/plain": [
       "              pid   code     fid18     fid16     fid14     fid12     fid10  \\\n",
       "0     100810551.0  551.0  100810.0  100810.0      -8.0      -8.0      -8.0   \n",
       "1     101129501.0  501.0  101129.0  101129.0  101129.0      -8.0      -8.0   \n",
       "2     103923551.0  551.0  103923.0  103923.0      -8.0      -8.0      -8.0   \n",
       "3     110026104.0  104.0  110026.0  110026.0  110026.0  110026.0  110026.0   \n",
       "4     110031101.0  101.0  110031.0  110031.0  110031.0  110031.0  110031.0   \n",
       "...           ...    ...       ...       ...       ...       ...       ...   \n",
       "4542  621848102.0    NaN  621848.0  621848.0  621848.0  621848.0  621848.0   \n",
       "4543  621852102.0    NaN  621852.0  621852.0  621852.0  621852.0  621852.0   \n",
       "4544  621859101.0    NaN  621859.0  621859.0  621859.0  621859.0  621859.0   \n",
       "4545  723113434.0    NaN  723113.0      -8.0  723113.0  723113.0      -8.0   \n",
       "4546  797332432.0    NaN  797332.0  797332.0  797332.0  797332.0      -8.0   \n",
       "\n",
       "          pid_a_f      pid_a_m  selfrpt  ...  inroster18  indsurvey18  \\\n",
       "0            -8.0         -8.0      1.0  ...         NaN          NaN   \n",
       "1            -8.0         -8.0      1.0  ...         NaN          NaN   \n",
       "2            -8.0         -8.0      1.0  ...         NaN          NaN   \n",
       "3     110026204.0  110026205.0      1.0  ...         NaN          NaN   \n",
       "4     110031201.0  110031202.0      1.0  ...         NaN          NaN   \n",
       "...           ...          ...      ...  ...         ...          ...   \n",
       "4542          NaN          NaN      NaN  ...         1.0          0.0   \n",
       "4543          NaN          NaN      NaN  ...         1.0          0.0   \n",
       "4544          NaN          NaN      NaN  ...         1.0          0.0   \n",
       "4545          NaN          NaN      NaN  ...         1.0          0.0   \n",
       "4546          NaN          NaN      NaN  ...         1.0          0.0   \n",
       "\n",
       "      selfrpt18  co_a18_p  marriage_18  hk18  employ18  genetype18  \\\n",
       "0           NaN       NaN          NaN   NaN       NaN         NaN   \n",
       "1           NaN       NaN          NaN   NaN       NaN         NaN   \n",
       "2           NaN       NaN          NaN   NaN       NaN         NaN   \n",
       "3           NaN       NaN          NaN   NaN       NaN         NaN   \n",
       "4           NaN       NaN          NaN   NaN       NaN         NaN   \n",
       "...         ...       ...          ...   ...       ...         ...   \n",
       "4542       -8.0       0.0          2.0  -8.0      -8.0         7.0   \n",
       "4543       -8.0       0.0          2.0  -8.0      -8.0         7.0   \n",
       "4544       -8.0       0.0          2.0  -8.0      -8.0         7.0   \n",
       "4545       -8.0       0.0          5.0   1.0      -8.0         0.0   \n",
       "4546       -8.0       0.0          4.0  -8.0      -8.0         0.0   \n",
       "\n",
       "      coremember18  alive18  \n",
       "0              NaN      NaN  \n",
       "1              NaN      NaN  \n",
       "2              NaN      NaN  \n",
       "3              NaN      NaN  \n",
       "4              NaN      NaN  \n",
       "...            ...      ...  \n",
       "4542          -8.0      0.0  \n",
       "4543          -8.0      0.0  \n",
       "4544          -8.0      0.0  \n",
       "4545           0.0      0.0  \n",
       "4546           1.0      0.0  \n",
       "\n",
       "[4547 rows x 1449 columns]"
      ]
     },
     "execution_count": 47,
     "metadata": {},
     "output_type": "execute_result"
    }
   ],
   "source": [
    "#取出所有有变故的，包括疾病和死亡\n",
    "seriously_ill=data_person[data_person['qp303']==5]\n",
    "seriously_ill.loc[:,:]\n",
    "seriously_ill.append(death,ignore_index=True)"
   ]
  },
  {
   "cell_type": "code",
   "execution_count": 66,
   "id": "8a2c6602",
   "metadata": {},
   "outputs": [],
   "source": [
    "#在资产表中取出所有有变故的和没变故的\n",
    "famecon.reset_index(inplace=True)\n",
    "df_new=famecon[famecon['fid18'].isin(seriously_ill['fid18'])]\n",
    "df_new1=famecon[~famecon['fid18'].isin(seriously_ill['fid18'])]"
   ]
  },
  {
   "cell_type": "code",
   "execution_count": 67,
   "id": "2c563bfb",
   "metadata": {},
   "outputs": [
    {
     "data": {
      "text/html": [
       "<div>\n",
       "<style scoped>\n",
       "    .dataframe tbody tr th:only-of-type {\n",
       "        vertical-align: middle;\n",
       "    }\n",
       "\n",
       "    .dataframe tbody tr th {\n",
       "        vertical-align: top;\n",
       "    }\n",
       "\n",
       "    .dataframe thead th {\n",
       "        text-align: right;\n",
       "    }\n",
       "</style>\n",
       "<table border=\"1\" class=\"dataframe\">\n",
       "  <thead>\n",
       "    <tr style=\"text-align: right;\">\n",
       "      <th></th>\n",
       "      <th>fid18</th>\n",
       "      <th>is</th>\n",
       "    </tr>\n",
       "  </thead>\n",
       "  <tbody>\n",
       "    <tr>\n",
       "      <th>12</th>\n",
       "      <td>100810.0</td>\n",
       "      <td>有变故</td>\n",
       "    </tr>\n",
       "    <tr>\n",
       "      <th>15</th>\n",
       "      <td>101023.0</td>\n",
       "      <td>有变故</td>\n",
       "    </tr>\n",
       "    <tr>\n",
       "      <th>16</th>\n",
       "      <td>101129.0</td>\n",
       "      <td>有变故</td>\n",
       "    </tr>\n",
       "    <tr>\n",
       "      <th>18</th>\n",
       "      <td>101274.0</td>\n",
       "      <td>有变故</td>\n",
       "    </tr>\n",
       "    <tr>\n",
       "      <th>27</th>\n",
       "      <td>102730.0</td>\n",
       "      <td>有变故</td>\n",
       "    </tr>\n",
       "    <tr>\n",
       "      <th>...</th>\n",
       "      <td>...</td>\n",
       "      <td>...</td>\n",
       "    </tr>\n",
       "    <tr>\n",
       "      <th>14213</th>\n",
       "      <td>6609501.0</td>\n",
       "      <td>无变故</td>\n",
       "    </tr>\n",
       "    <tr>\n",
       "      <th>14214</th>\n",
       "      <td>6646971.0</td>\n",
       "      <td>无变故</td>\n",
       "    </tr>\n",
       "    <tr>\n",
       "      <th>14215</th>\n",
       "      <td>6694541.0</td>\n",
       "      <td>无变故</td>\n",
       "    </tr>\n",
       "    <tr>\n",
       "      <th>14216</th>\n",
       "      <td>6704011.0</td>\n",
       "      <td>无变故</td>\n",
       "    </tr>\n",
       "    <tr>\n",
       "      <th>14217</th>\n",
       "      <td>6759191.0</td>\n",
       "      <td>无变故</td>\n",
       "    </tr>\n",
       "  </tbody>\n",
       "</table>\n",
       "<p>14218 rows × 2 columns</p>\n",
       "</div>"
      ],
      "text/plain": [
       "           fid18   is\n",
       "12      100810.0  有变故\n",
       "15      101023.0  有变故\n",
       "16      101129.0  有变故\n",
       "18      101274.0  有变故\n",
       "27      102730.0  有变故\n",
       "...          ...  ...\n",
       "14213  6609501.0  无变故\n",
       "14214  6646971.0  无变故\n",
       "14215  6694541.0  无变故\n",
       "14216  6704011.0  无变故\n",
       "14217  6759191.0  无变故\n",
       "\n",
       "[14218 rows x 2 columns]"
      ]
     },
     "execution_count": 67,
     "metadata": {},
     "output_type": "execute_result"
    }
   ],
   "source": [
    "#赋值，有变故的赋值为yes，反之为no\n",
    "df_new['is']='有变故'\n",
    "df_new1['is']='无变故'\n",
    "df_new=df_new[['fid18','is']]\n",
    "df_new1=df_new1[['fid18','is']]\n",
    "#然后把有无变故的两个表拼在一起\n",
    "df_new=pd.concat([df_new,df_new1])\n",
    "df_new"
   ]
  },
  {
   "cell_type": "code",
   "execution_count": 68,
   "id": "340ec724",
   "metadata": {},
   "outputs": [
    {
     "data": {
      "text/plain": [
       "count     14218\n",
       "unique        2\n",
       "top         无变故\n",
       "freq      11089\n",
       "Name: is, dtype: object"
      ]
     },
     "execution_count": 68,
     "metadata": {},
     "output_type": "execute_result"
    }
   ],
   "source": [
    "f2=pd.merge(left=famecon,right=df_new,on='fid18')\n",
    "f2['is'].describe()"
   ]
  },
  {
   "cell_type": "code",
   "execution_count": 69,
   "id": "7cdf9827",
   "metadata": {},
   "outputs": [],
   "source": [
    "result1 = merge1[['housing','durable','fin_asset','mortgage','bank_loan','friend_loan']].groupby(f2['is']).agg(lambda x: sum(x)/len(x))"
   ]
  },
  {
   "cell_type": "code",
   "execution_count": 70,
   "id": "df747b2b",
   "metadata": {},
   "outputs": [
    {
     "data": {
      "text/html": [
       "<div>\n",
       "<style scoped>\n",
       "    .dataframe tbody tr th:only-of-type {\n",
       "        vertical-align: middle;\n",
       "    }\n",
       "\n",
       "    .dataframe tbody tr th {\n",
       "        vertical-align: top;\n",
       "    }\n",
       "\n",
       "    .dataframe thead th {\n",
       "        text-align: right;\n",
       "    }\n",
       "</style>\n",
       "<table border=\"1\" class=\"dataframe\">\n",
       "  <thead>\n",
       "    <tr style=\"text-align: right;\">\n",
       "      <th></th>\n",
       "      <th>housing</th>\n",
       "      <th>durable</th>\n",
       "      <th>fin_asset</th>\n",
       "      <th>mortgage</th>\n",
       "      <th>bank_loan</th>\n",
       "      <th>friend_loan</th>\n",
       "    </tr>\n",
       "    <tr>\n",
       "      <th>is</th>\n",
       "      <th></th>\n",
       "      <th></th>\n",
       "      <th></th>\n",
       "      <th></th>\n",
       "      <th></th>\n",
       "      <th></th>\n",
       "    </tr>\n",
       "  </thead>\n",
       "  <tbody>\n",
       "    <tr>\n",
       "      <th>无变故</th>\n",
       "      <td>0.830463</td>\n",
       "      <td>0.909279</td>\n",
       "      <td>0.061773</td>\n",
       "      <td>0.119668</td>\n",
       "      <td>0.095500</td>\n",
       "      <td>0.113897</td>\n",
       "    </tr>\n",
       "    <tr>\n",
       "      <th>有变故</th>\n",
       "      <td>0.897411</td>\n",
       "      <td>0.911793</td>\n",
       "      <td>0.039949</td>\n",
       "      <td>0.107063</td>\n",
       "      <td>0.098434</td>\n",
       "      <td>0.182486</td>\n",
       "    </tr>\n",
       "  </tbody>\n",
       "</table>\n",
       "</div>"
      ],
      "text/plain": [
       "      housing   durable  fin_asset  mortgage  bank_loan  friend_loan\n",
       "is                                                                  \n",
       "无变故  0.830463  0.909279   0.061773  0.119668   0.095500     0.113897\n",
       "有变故  0.897411  0.911793   0.039949  0.107063   0.098434     0.182486"
      ]
     },
     "execution_count": 70,
     "metadata": {},
     "output_type": "execute_result"
    }
   ],
   "source": [
    "# result1.reset_index(inplace=True)\n",
    "result1"
   ]
  },
  {
   "cell_type": "code",
   "execution_count": 71,
   "id": "08efadfe",
   "metadata": {},
   "outputs": [
    {
     "data": {
      "text/plain": [
       "<matplotlib.collections.PathCollection at 0x245d42df348>"
      ]
     },
     "execution_count": 71,
     "metadata": {},
     "output_type": "execute_result"
    },
    {
     "data": {
      "text/plain": [
       "<matplotlib.collections.PathCollection at 0x245d7cfdac8>"
      ]
     },
     "execution_count": 71,
     "metadata": {},
     "output_type": "execute_result"
    },
    {
     "data": {
      "text/plain": [
       "<matplotlib.collections.PathCollection at 0x245d7d14048>"
      ]
     },
     "execution_count": 71,
     "metadata": {},
     "output_type": "execute_result"
    },
    {
     "data": {
      "text/plain": [
       "<matplotlib.legend.Legend at 0x245d7bda688>"
      ]
     },
     "execution_count": 71,
     "metadata": {},
     "output_type": "execute_result"
    },
    {
     "data": {
      "text/plain": [
       "Text(0.5, 0, 'participation rate')"
      ]
     },
     "execution_count": 71,
     "metadata": {},
     "output_type": "execute_result"
    },
    {
     "data": {
      "text/plain": [
       "Text(0, 0.5, '是否有变故')"
      ]
     },
     "execution_count": 71,
     "metadata": {},
     "output_type": "execute_result"
    },
    {
     "data": {
      "text/plain": [
       "<matplotlib.collections.PathCollection at 0x245d4625088>"
      ]
     },
     "execution_count": 71,
     "metadata": {},
     "output_type": "execute_result"
    },
    {
     "data": {
      "text/plain": [
       "<matplotlib.collections.PathCollection at 0x245d4625908>"
      ]
     },
     "execution_count": 71,
     "metadata": {},
     "output_type": "execute_result"
    },
    {
     "data": {
      "text/plain": [
       "<matplotlib.collections.PathCollection at 0x245e0f02748>"
      ]
     },
     "execution_count": 71,
     "metadata": {},
     "output_type": "execute_result"
    },
    {
     "data": {
      "text/plain": [
       "<matplotlib.legend.Legend at 0x245e0f19e48>"
      ]
     },
     "execution_count": 71,
     "metadata": {},
     "output_type": "execute_result"
    },
    {
     "data": {
      "text/plain": [
       "Text(0.5, 0, 'participation rate')"
      ]
     },
     "execution_count": 71,
     "metadata": {},
     "output_type": "execute_result"
    },
    {
     "data": {
      "text/plain": [
       "Text(0, 0.5, '是否有变故')"
      ]
     },
     "execution_count": 71,
     "metadata": {},
     "output_type": "execute_result"
    },
    {
     "data": {
      "image/png": "[encoded data removed]",
      "text/plain": [
       "<Figure size 1400x2000 with 2 Axes>"
      ]
     },
     "metadata": {},
     "output_type": "display_data"
    }
   ],
   "source": [
    "colors = ['blue','red','orange']\n",
    "markers = ['H','p','d']\n",
    "fig = plt.figure(figsize=(7,10),dpi=200)\n",
    "plt.style.use('seaborn-darkgrid')#指定风格,ggplot太丑了\n",
    "for j in [1,2]:\n",
    "    ax = fig.add_subplot(2,1,j)\n",
    "    for i in range(3):\n",
    "        ax.scatter(result1.index[0:9],#传入数据x\n",
    "                   result1.iloc[0:9,(j-1)*3+i],#传入数据y\n",
    "                    s = 150,#散点图形（marker）的大小\n",
    "                    c = colors[i],#marker颜色\n",
    "                    marker = markers[i],#marker形状\n",
    "                    #marker=matplotlib.markers.MarkerStyle(marker = markers[i],fillstyle='full'),#设置marker的填充\n",
    "                    alpha=0.8,#marker透明度，范围为0-1\n",
    "                    facecolors='r',#marker的填充颜色，当上面c参数设置了颜色，优先c\n",
    "                    edgecolors='none',#marker的边缘线色\n",
    "                    linewidths=1,#marker边缘线宽度，edgecolors不设置时，该参数不起作用\n",
    "                    label = result.columns[(j-1)*3+i])#后面图例的名称取自label\n",
    "                 \n",
    " \n",
    "    plt.legend(loc = 'best')\n",
    "    plt.xlabel('participation rate')\n",
    "    plt.ylabel(\"是否有变故\")\n",
    "#字体设为微软雅黑\n",
    "plt.rcParams['font.sans-serif'] = ['Microsoft YaHei']\n",
    "plt.rcParams['axes.unicode_minus'] = False\n",
    "plt.show()\n",
    "# plt.savefig('ages.png')"
   ]
  },
  {
   "cell_type": "markdown",
   "id": "41e48479",
   "metadata": {},
   "source": [
    "## 散点图不利于观察，通过条形图来进行对比"
   ]
  },
  {
   "cell_type": "code",
   "execution_count": 73,
   "id": "6d09d125",
   "metadata": {},
   "outputs": [
    {
     "data": {
      "text/plain": [
       "<AxesSubplot:xlabel='is'>"
      ]
     },
     "execution_count": 73,
     "metadata": {},
     "output_type": "execute_result"
    },
    {
     "data": {
      "image/png": "[encoded data removed]",
      "text/plain": [
       "<Figure size 432x288 with 1 Axes>"
      ]
     },
     "metadata": {},
     "output_type": "display_data"
    }
   ],
   "source": [
    "result1.reset_index(inplace=True)\n",
    "result1.plot(x='is',y=['housing','durable','fin_asset'],kind='bar',\n",
    "             color=['blue','red','green'],width=0.8)"
   ]
  },
  {
   "cell_type": "code",
   "execution_count": 74,
   "id": "b5a1cf2c",
   "metadata": {},
   "outputs": [
    {
     "data": {
      "text/plain": [
       "<AxesSubplot:xlabel='is'>"
      ]
     },
     "execution_count": 74,
     "metadata": {},
     "output_type": "execute_result"
    },
    {
     "data": {
      "image/png": "[encoded data removed]",
      "text/plain": [
       "<Figure size 432x288 with 1 Axes>"
      ]
     },
     "metadata": {},
     "output_type": "display_data"
    }
   ],
   "source": [
    "result1.plot(x='is',y=['mortgage','bank_loan','friend_loan'],kind='bar',\n",
    "             color=['blue','red','green'],width=0.8)"
   ]
  },
  {
   "cell_type": "markdown",
   "id": "97f84cf6",
   "metadata": {},
   "source": [
    "## 至此是否有变故的分析也完成了"
   ]
  },
  {
   "cell_type": "code",
   "execution_count": null,
   "id": "f3b0569f",
   "metadata": {},
   "outputs": [],
   "source": []
  }
 ],
 "metadata": {
  "kernelspec": {
   "display_name": "Python 3 (ipykernel)",
   "language": "python",
   "name": "python3"
  },
  "language_info": {
   "codemirror_mode": {
    "name": "ipython",
    "version": 3
   },
   "file_extension": ".py",
   "mimetype": "text/x-python",
   "name": "python",
   "nbconvert_exporter": "python",
   "pygments_lexer": "ipython3",
   "version": "3.7.8"
  }
 },
 "nbformat": 4,
 "nbformat_minor": 5
}
